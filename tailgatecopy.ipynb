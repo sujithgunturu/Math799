{
  "nbformat": 4,
  "nbformat_minor": 0,
  "metadata": {
    "colab": {
      "name": "tailgatecopy.ipynb",
      "provenance": [],
      "collapsed_sections": [],
      "authorship_tag": "ABX9TyNvBvvhgttU3TtbtS4p3fyN",
      "include_colab_link": true
    },
    "kernelspec": {
      "name": "python3",
      "display_name": "Python 3"
    },
    "language_info": {
      "name": "python"
    }
  },
  "cells": [
    {
      "cell_type": "markdown",
      "metadata": {
        "id": "view-in-github",
        "colab_type": "text"
      },
      "source": [
        "<a href=\"https://colab.research.google.com/github/sujithgunturu/Math799/blob/master/tailgatecopy.ipynb\" target=\"_parent\"><img src=\"https://colab.research.google.com/assets/colab-badge.svg\" alt=\"Open In Colab\"/></a>"
      ]
    },
    {
      "cell_type": "code",
      "metadata": {
        "id": "7gCpO2sVHbh4"
      },
      "source": [
        "import sympy as sp\n",
        "from sympy.utilities import lambdify\n",
        "import numpy as np\n",
        "from scipy.integrate import solve_ivp\n",
        "import matplotlib.pyplot as plt"
      ],
      "execution_count": 48,
      "outputs": []
    },
    {
      "cell_type": "code",
      "metadata": {
        "id": "Lr_jR_njHcDW"
      },
      "source": [
        "t = sp.Symbol('t')\n",
        "\n",
        "\n",
        "S_xl, theta_vr,theta_vd, theta_vo, theta_vs, theta_vq, theta_ps, theta_a, theta_pr, \\\n",
        "theta_pm, theta_tr, theta_td, theta_t0, theta_alpha, theta_el, theta_k, theta_sr,\\\n",
        "theta_sm, theta_rue, theta_m, theta_gx, theta_gb, theta_ts, k_i, k_m, k_e\\\n",
        "= sp.symbols('S_xl theta_vr theta_vd theta_vo theta_vs theta_vq theta_ps \\\n",
        "theta_a theta_pr theta_pm theta_tr, theta_td, theta_t0, theta_alpha, theta_el, theta_k\\\n",
        " theta_sr theta_sm theta_rue theta_m theta_gx theta_gb theta_ts k_i k_m k_e')\n",
        "\n",
        "S_vt, S_lt, S_at, S_wt, S_bt, S_yt, S_gt = sp.symbols('S_vt, S_lt, S_at, S_wt, S_bt, S_yt, S_gt')\n",
        "\n",
        "variables  = (S_vt, S_lt, S_at, S_wt, S_bt, S_yt, S_gt)\n",
        "parameters = (S_xl, theta_vr,theta_vd, theta_vo, theta_vs, theta_vq, theta_ps, theta_a, theta_pr, \\\n",
        "theta_pm, theta_tr, theta_td, theta_t0, theta_alpha, theta_el, theta_k, theta_sr,\\\n",
        "theta_sm, theta_rue, theta_m, theta_gx, theta_gb, theta_ts, k_i, k_m, k_e)\n"
      ],
      "execution_count": 96,
      "outputs": []
    },
    {
      "cell_type": "code",
      "metadata": {
        "id": "bqPmqZ9lNLph"
      },
      "source": [
        "CV = (1 + exp(-1 * theta_vr * theta_vd))/(1+ (exp((-1 * theta_vr * (W_at - theta_vo + theta_vd)))) + ((exp( (theta_vr) * (W_at - theta_vo)  - 1))))"
      ],
      "execution_count": 97,
      "outputs": []
    },
    {
      "cell_type": "code",
      "metadata": {
        "id": "xPJDmNQIN9YE"
      },
      "source": [
        "f_vt = 1-theta_vs*(1- 1/(1+exp(-10/theta_vq*(S_vt - theta_vq/2))))\n",
        "f_pt = 1 - (1 - theta_ps * (1- (1 / (exp(-100 * (( S_at/theta_a)-1) ))) )) * (1/(1 + exp(-theta_pr*(W_pt - theta_pm))))\n",
        "d_tt = (1 + exp(-1 * theta_tr * theta_td)) / (1 + exp(-1 * theta_tr *(W_at - theta_t0 + theta_td) + exp((theta_tr * (W_at - theta_t0)) -1)))\n",
        "\n",
        "PA = f_vt * f_pt * d_tt"
      ],
      "execution_count": 98,
      "outputs": []
    },
    {
      "cell_type": "code",
      "metadata": {
        "id": "sURJzwWIOEgq"
      },
      "source": [
        "f_wt = 1 / (1 + exp((-np.log (99)/0.175)*(S_wt - 0.175)))\n",
        "LAI = S_lt * (d_tt*theta_alpha*f_wt*(1 - (1/(1+exp(-1* 100 * ((S_at/theta_el) -1)))))* (1/exp(-1 * 100 *(exp(-1 * theta_k * S_lt)))) - (1/1+exp(-1 * theta_sr * (W_at/theta_sm - 1) )))"
      ],
      "execution_count": 99,
      "outputs": []
    },
    {
      "cell_type": "code",
      "metadata": {
        "id": "nFXKy8X_ONVX"
      },
      "source": [
        "BIO = theta_rue * W_st * (1- exp(-1*theta_k * S_lt) * f_wt* d_tt * (1- (1/ (1+exp(-100 * (S_at/theta_m -1)*(1-(1/1+exp(-100*((1000 * S_yt) /(theta_gx *S_gt) -1)))) )) ) ))"
      ],
      "execution_count": 100,
      "outputs": []
    },
    {
      "cell_type": "code",
      "metadata": {
        "id": "4d5qj_erOUKp"
      },
      "source": [
        "#mistake\n",
        "GN = BIO * theta_gb * (1 / (1 + exp(-1 * 100 * (S_at/theta_a)-1))) * (1 - (1/(1+exp(-1 * 100 * (S_at/theta_ts -1)))))"
      ],
      "execution_count": 101,
      "outputs": []
    },
    {
      "cell_type": "code",
      "metadata": {
        "id": "CRiCep5eOhgu"
      },
      "source": [
        "Y = BIO * (1/ (1+exp(-1 * 100* (S_at/theta_a -1))))\n"
      ],
      "execution_count": 102,
      "outputs": []
    },
    {
      "cell_type": "code",
      "metadata": {
        "id": "yCwlD9Z2PRtL"
      },
      "source": [
        "D_t = (4098 * 0.6108 * exp((17.27 * W_at)/W_at+237.3))/(W_at + 237.3)**2\n",
        "e_st = 0.6108 * (exp((17.27 * W_xt)/(W_xt + 237.3)) + exp((17.27 * W_nt)/W_nt +237.3)) /2 \n",
        "e_at = e_st * W_ht * 0.01\n",
        "gamma_t = 0.665 * 10**-3 * W_pt2\n",
        "e0_t = ((0.408 * D_t * (W_st)) + (gamma_t * (900/(W_at + 273) * W_wt* (e_st - e_at))))/(D_t + gamma_t * (1+ 0.34 * W_wt))\n",
        "k_ct = k_i + (1-exp(-1 * theta_k * S_lt)) * (k_m - k_i + (k_i-k_e)/(exp(-1 * 100 * (S_at/theta_a - 1) ) +1) ) - ( (k_i - k_e) / exp(-1 * 100 * (S_at/theta_a -1) +1))\n",
        "#k_ct = 0.45 + (1-exp(-1 * theta_k * S_lt)) * (1.3 - 0.45 + (0.45-0.2)/(exp(-1 * 100 * (S_at/theta_a - 1) ) +1) ) - ( (0.45 - 0.2) / exp(-1 * 100 * (S_at/theta_a -1) +1))\n",
        "e_ct = e0_t * k_ct\n",
        "SW = ((W_rt)/exp(-1 * 100 * (S_wt/S_xl + 1) ) + 1) - (e_ct * f_wt)"
      ],
      "execution_count": 103,
      "outputs": []
    },
    {
      "cell_type": "code",
      "metadata": {
        "id": "FKSYa5ztPhM5"
      },
      "source": [
        ""
      ],
      "execution_count": 103,
      "outputs": []
    },
    {
      "cell_type": "code",
      "metadata": {
        "colab": {
          "base_uri": "https://localhost:8080/"
        },
        "id": "P3YxaeGAKVeW",
        "outputId": "5a27e453-28e8-423d-a470-b2a17a7de645"
      },
      "source": [
        "rhs = [CV,PA,LAI, BIO, GN, Y, SW]\n",
        "deriv_variables = tuple([sp.Symbol('{}_{}'.format(v,p)) for v in variables for p in parameters])\n",
        "all_variables = variables + deriv_variables\n",
        "\n",
        "print(all_variables)"
      ],
      "execution_count": 104,
      "outputs": [
        {
          "output_type": "stream",
          "text": [
            "(S_vt, S_lt, S_at, S_wt, S_bt, S_yt, S_gt, S_vt_S_xl, S_vt_theta_vr, S_vt_theta_vd, S_vt_theta_vo, S_vt_theta_vs, S_vt_theta_vq, S_vt_theta_ps, S_vt_theta_a, S_vt_theta_pr, S_vt_theta_pm, S_vt_theta_tr, S_vt_theta_td, S_vt_theta_t0, S_vt_theta_alpha, S_vt_theta_el, S_vt_theta_k, S_vt_theta_sr, S_vt_theta_sm, S_vt_theta_rue, S_vt_theta_m, S_vt_theta_gx, S_vt_theta_gb, S_vt_theta_ts, S_vt_k_i, S_vt_k_m, S_vt_k_e, S_lt_S_xl, S_lt_theta_vr, S_lt_theta_vd, S_lt_theta_vo, S_lt_theta_vs, S_lt_theta_vq, S_lt_theta_ps, S_lt_theta_a, S_lt_theta_pr, S_lt_theta_pm, S_lt_theta_tr, S_lt_theta_td, S_lt_theta_t0, S_lt_theta_alpha, S_lt_theta_el, S_lt_theta_k, S_lt_theta_sr, S_lt_theta_sm, S_lt_theta_rue, S_lt_theta_m, S_lt_theta_gx, S_lt_theta_gb, S_lt_theta_ts, S_lt_k_i, S_lt_k_m, S_lt_k_e, S_at_S_xl, S_at_theta_vr, S_at_theta_vd, S_at_theta_vo, S_at_theta_vs, S_at_theta_vq, S_at_theta_ps, S_at_theta_a, S_at_theta_pr, S_at_theta_pm, S_at_theta_tr, S_at_theta_td, S_at_theta_t0, S_at_theta_alpha, S_at_theta_el, S_at_theta_k, S_at_theta_sr, S_at_theta_sm, S_at_theta_rue, S_at_theta_m, S_at_theta_gx, S_at_theta_gb, S_at_theta_ts, S_at_k_i, S_at_k_m, S_at_k_e, S_wt_S_xl, S_wt_theta_vr, S_wt_theta_vd, S_wt_theta_vo, S_wt_theta_vs, S_wt_theta_vq, S_wt_theta_ps, S_wt_theta_a, S_wt_theta_pr, S_wt_theta_pm, S_wt_theta_tr, S_wt_theta_td, S_wt_theta_t0, S_wt_theta_alpha, S_wt_theta_el, S_wt_theta_k, S_wt_theta_sr, S_wt_theta_sm, S_wt_theta_rue, S_wt_theta_m, S_wt_theta_gx, S_wt_theta_gb, S_wt_theta_ts, S_wt_k_i, S_wt_k_m, S_wt_k_e, S_bt_S_xl, S_bt_theta_vr, S_bt_theta_vd, S_bt_theta_vo, S_bt_theta_vs, S_bt_theta_vq, S_bt_theta_ps, S_bt_theta_a, S_bt_theta_pr, S_bt_theta_pm, S_bt_theta_tr, S_bt_theta_td, S_bt_theta_t0, S_bt_theta_alpha, S_bt_theta_el, S_bt_theta_k, S_bt_theta_sr, S_bt_theta_sm, S_bt_theta_rue, S_bt_theta_m, S_bt_theta_gx, S_bt_theta_gb, S_bt_theta_ts, S_bt_k_i, S_bt_k_m, S_bt_k_e, S_yt_S_xl, S_yt_theta_vr, S_yt_theta_vd, S_yt_theta_vo, S_yt_theta_vs, S_yt_theta_vq, S_yt_theta_ps, S_yt_theta_a, S_yt_theta_pr, S_yt_theta_pm, S_yt_theta_tr, S_yt_theta_td, S_yt_theta_t0, S_yt_theta_alpha, S_yt_theta_el, S_yt_theta_k, S_yt_theta_sr, S_yt_theta_sm, S_yt_theta_rue, S_yt_theta_m, S_yt_theta_gx, S_yt_theta_gb, S_yt_theta_ts, S_yt_k_i, S_yt_k_m, S_yt_k_e, S_gt_S_xl, S_gt_theta_vr, S_gt_theta_vd, S_gt_theta_vo, S_gt_theta_vs, S_gt_theta_vq, S_gt_theta_ps, S_gt_theta_a, S_gt_theta_pr, S_gt_theta_pm, S_gt_theta_tr, S_gt_theta_td, S_gt_theta_t0, S_gt_theta_alpha, S_gt_theta_el, S_gt_theta_k, S_gt_theta_sr, S_gt_theta_sm, S_gt_theta_rue, S_gt_theta_m, S_gt_theta_gx, S_gt_theta_gb, S_gt_theta_ts, S_gt_k_i, S_gt_k_m, S_gt_k_e)\n"
          ],
          "name": "stdout"
        }
      ]
    },
    {
      "cell_type": "code",
      "metadata": {
        "id": "k_VSfjB0I8lN"
      },
      "source": [
        "# generate right-hand sides for parameter derivatives\n",
        "add_rhs = []\n",
        "for i,v in enumerate(variables):\n",
        "  for p in parameters:\n",
        "    d = sp.diff(rhs[i],p)\n",
        "    for u in variables:\n",
        "      up = sp.Symbol('{}_{}'.format(u,p))\n",
        "      d += up*sp.diff(rhs[i],u)\n",
        "    add_rhs.append(sp.simplify(d))\n",
        "\n",
        "all_rhs = rhs + add_rhs\n",
        "\n",
        "for i in range(len(all_rhs)):\n",
        "  print('d{}/dt = {}'.format(all_variables[i],all_rhs[i]))"
      ],
      "execution_count": null,
      "outputs": []
    },
    {
      "cell_type": "code",
      "metadata": {
        "id": "k75MHF3tKD13"
      },
      "source": [
        "# specify particular values for the parameters\n",
        "param_vals = ((S_xl,150), (theta_vr,-0.28), (theta_vd,5), (theta_vo,4), \n",
        "            (theta_vs,1), (theta_vq,42), (theta_ps,0.8), (theta_a,36),\n",
        "            (theta_pr,0.44), (theta_pm,10.67), (theta_tr,0.14), (theta_td,-7.6), \n",
        "            (theta_t0,24), (theta_alpha,0.30), (theta_el,18), (theta_k,0.75),\n",
        "            (theta_sr,10), (theta_sm,35), (theta_rue,1.15), (theta_m,60),\n",
        "            (theta_gx,45), (theta_gb,20), (theta_ts,15), \n",
        "            (k_m,0.5 ), (k_e, 0.5), (k_i, 0.5))\n",
        "\n",
        "rhs0 = [f.subs(param_vals) for f in all_rhs]\n",
        "\n",
        "for i in range(len(rhs0)):\n",
        "  print('d{}/dt = {}'.format(all_variables[i],rhs0[i]))"
      ],
      "execution_count": null,
      "outputs": []
    },
    {
      "cell_type": "code",
      "metadata": {
        "id": "TbofOsCEKFyc"
      },
      "source": [
        "# convert the RHS functions into numpy functions\n",
        "rhs_np = [sp.lambdify((t,)+all_variables, f) for f in rhs0]\n",
        "\n",
        "# evaluate at a random vector just to check\n",
        "x = np.random.randn(len(all_variables)+1)\n",
        "print(rhs_np[0](*x))"
      ],
      "execution_count": null,
      "outputs": []
    },
    {
      "cell_type": "code",
      "metadata": {
        "id": "UkPkidLtKHrU"
      },
      "source": [
        "# make a right-hand side function for solve_ivp to use\n",
        "def rhs_fn(t,y):\n",
        "  v = np.r_[t,y]\n",
        "  return np.array([f(*v) for f in rhs_np])\n",
        "\n",
        "x = np.random.randn(len(all_variables))\n",
        "print(rhs_fn(0, x))"
      ],
      "execution_count": null,
      "outputs": []
    },
    {
      "cell_type": "code",
      "metadata": {
        "id": "HUw6uIkuKL9R"
      },
      "source": [
        "# initial conditions\n",
        "x0 = np.array([0.9, 0.1] + [0]*len(deriv_variables))\n",
        "\n",
        "# solve the odes\n",
        "T = np.linspace(0,100,1000)\n",
        "soln = solve_ivp(rhs_fn, (T[0],T[-1]), x0, t_eval=T)"
      ],
      "execution_count": null,
      "outputs": []
    },
    {
      "cell_type": "code",
      "metadata": {
        "id": "XwvagOwWKMl2"
      },
      "source": [
        "plt.figure(figsize=(9,6))\n",
        "for i,v in enumerate(variables):\n",
        "  plt.plot(soln['t'], soln['y'][i,:],label=v)\n",
        "plt.legend()\n",
        "plt.xlabel('t')\n",
        "plt.title('Solution to ODE');"
      ],
      "execution_count": null,
      "outputs": []
    },
    {
      "cell_type": "code",
      "metadata": {
        "id": "5swSzWHKKODD"
      },
      "source": [
        "plt.figure(figsize=(9,6))\n",
        "for i,v in enumerate(deriv_variables):\n",
        "  plt.plot(soln['t'], soln['y'][i+len(variables),:],label=v)\n",
        "plt.legend()\n",
        "plt.xlabel('t')\n",
        "plt.title('Parameter Derivatives');"
      ],
      "execution_count": null,
      "outputs": []
    },
    {
      "cell_type": "code",
      "metadata": {
        "id": "m0MQJdcKQJTK"
      },
      "source": [
        ""
      ],
      "execution_count": null,
      "outputs": []
    }
  ]
}