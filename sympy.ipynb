{
  "nbformat": 4,
  "nbformat_minor": 0,
  "metadata": {
    "colab": {
      "name": "sympy.ipynb",
      "provenance": [],
      "collapsed_sections": [],
      "authorship_tag": "ABX9TyPrwfLkc1vRiByJwLGps7yq",
      "include_colab_link": true
    },
    "kernelspec": {
      "name": "python3",
      "display_name": "Python 3"
    }
  },
  "cells": [
    {
      "cell_type": "markdown",
      "metadata": {
        "id": "view-in-github",
        "colab_type": "text"
      },
      "source": [
        "<a href=\"https://colab.research.google.com/github/sujithgunturu/Math799/blob/master/sympy.ipynb\" target=\"_parent\"><img src=\"https://colab.research.google.com/assets/colab-badge.svg\" alt=\"Open In Colab\"/></a>"
      ]
    },
    {
      "cell_type": "code",
      "metadata": {
        "id": "bnC1rSBKqsHJ"
      },
      "source": [
        "from sympy import *\n",
        "init_printing(use_unicode=True)"
      ],
      "execution_count": 59,
      "outputs": []
    },
    {
      "cell_type": "markdown",
      "metadata": {
        "id": "cNem7hxaB5Vr"
      },
      "source": [
        "Adding symbols for all the data"
      ]
    },
    {
      "cell_type": "code",
      "metadata": {
        "id": "esDS7IStB4gL"
      },
      "source": [
        "S_xl,S_vt,S_at,S_wt, theta_vr,theta_vd, theta_vo, theta_vs, theta_vq, theta_ps, theta_a, theta_pr, \\\n",
        "theta_pm, theta_tr, theta_td, theta_t0, theta_alpha, theta_el, theta_k, theta_sr,\\\n",
        "theta_sm, theta_rue, theta_m, theta_gx, theta_gb, theta_ts, W_at, W_pt, S_lt, W_st, S_yt, S_gt, W_xt, W_nt, W_ht, W_wt, k_i, k_m, k_e, W_rt\\\n",
        "= symbols('S_xl S_vt S_at S_wt theta_vr theta_vd theta_vo theta_vs theta_vq theta_ps \\\n",
        "theta_a theta_pr theta_pm theta_tr, theta_td, theta_t0, theta_alpha, theta_el, theta_k\\\n",
        " theta_sr theta_sm theta_rue theta_m theta_gx theta_gb theta_ts W_at W_pt S_lt W_st S_yt S_gt W_xt W_nt W_ht W_wt k_i k_m k_e W_rt|')"
      ],
      "execution_count": 76,
      "outputs": []
    },
    {
      "cell_type": "markdown",
      "metadata": {
        "id": "KVz0KE-rv7Mk"
      },
      "source": [
        "1) Cumulative vernalization (Sv)\n"
      ]
    },
    {
      "cell_type": "code",
      "metadata": {
        "id": "r0ycKxvmigh6",
        "colab": {
          "base_uri": "https://localhost:8080/",
          "height": 56
        },
        "outputId": "0953adad-6d4b-4b60-f651-a011ba878a99"
      },
      "source": [
        "dSvt_dt = (1 + exp(-1 * theta_vr * theta_vd))/(exp((-1 * theta_vr * (W_at - theta_vo + theta_vd))) + (exp( (theta_vr) * (W_at - theta_vo) ) - 1) + 1)\n",
        "dSvt_dt"
      ],
      "execution_count": 61,
      "outputs": [
        {
          "output_type": "execute_result",
          "data": {
            "image/png": "[encoded data removed]",
            "text/latex": "$\\displaystyle \\frac{1 + e^{- \\theta_{vd} \\theta_{vr}}}{e^{\\theta_{vr} \\left(W_{at} - \\theta_{vo}\\right)} + e^{- \\theta_{vr} \\left(W_{at} + \\theta_{vd} - \\theta_{vo}\\right)}}$",
            "text/plain": [
              "                    -θ_vd⋅θᵥᵣ              \n",
              "               1 + ℯ                       \n",
              "───────────────────────────────────────────\n",
              " θᵥᵣ⋅(Wₐₜ - θᵥₒ)    -θᵥᵣ⋅(Wₐₜ + θ_vd - θᵥₒ)\n",
              "ℯ                + ℯ                       "
            ]
          },
          "metadata": {
            "tags": []
          },
          "execution_count": 61
        }
      ]
    },
    {
      "cell_type": "markdown",
      "metadata": {
        "id": "xUgIeLvuv57k"
      },
      "source": [
        "2)Physiological age (Sa)\n"
      ]
    },
    {
      "cell_type": "code",
      "metadata": {
        "colab": {
          "base_uri": "https://localhost:8080/",
          "height": 101
        },
        "id": "E0jCMGNXBW_R",
        "outputId": "82dafd9e-e0f9-4a46-e719-751c41dc1b4a"
      },
      "source": [
        "f_vt = 1 - (theta_vs*(1- (1/1+exp((-10/theta_vq )* (S_vt- (theta_vq/2))))))\n",
        "f_pt = 1 - (1 - theta_ps * (1- (1 / (exp(-100 * (( S_at/theta_a)-1) ))) )) * (1/(1 + exp(theta_pr*(W_pt - theta_pm))))\n",
        "d_tt = (1 + exp(-1 * theta_tr * theta_td)) / (1 + exp(-1 * theta_tr *(W_at - theta_t0 + theta_td) + exp((theta_tr * (W_at - theta_t0)) -1)))\n",
        "dSat_dt = f_vt * f_pt * d_tt\n",
        "dSat_dt"
      ],
      "execution_count": 62,
      "outputs": [
        {
          "output_type": "execute_result",
          "data": {
            "image/png": "[encoded data removed]",
            "text/latex": "$\\displaystyle \\frac{\\left(1 + e^{- \\theta_{td} \\theta_{tr}}\\right) \\left(\\theta_{vs} e^{- \\frac{10 \\left(S_{vt} - \\frac{\\theta_{vq}}{2}\\right)}{\\theta_{vq}}} + 1\\right) \\left(- \\frac{- \\theta_{ps} \\left(1 - e^{\\frac{100 S_{at}}{\\theta_{a}} - 100}\\right) + 1}{e^{\\theta_{pr} \\left(W_{pt} - \\theta_{pm}\\right)} + 1} + 1\\right)}{e^{- \\theta_{tr} \\left(W_{at} - \\theta_{t0} + \\theta_{td}\\right) + e^{\\theta_{tr} \\left(W_{at} - \\theta_{t0}\\right) - 1}} + 1}$",
            "text/plain": [
              "                 ⎛         ⎛      θ_vq⎞     ⎞                                 \n",
              "                 ⎜     -10⋅⎜Sᵥₜ - ────⎟     ⎟ ⎛        ⎛     100⋅Sₐₜ      ⎞   \n",
              "                 ⎜         ⎝       2  ⎠     ⎟ ⎜        ⎜     ─────── - 100⎟   \n",
              "                 ⎜     ─────────────────    ⎟ ⎜        ⎜        θₐ        ⎟   \n",
              "⎛     -θ_td⋅θₜᵣ⎞ ⎜            θ_vq          ⎟ ⎜  - θₚₛ⋅⎝1 - ℯ             ⎠ + \n",
              "⎝1 + ℯ         ⎠⋅⎝θᵥₛ⋅ℯ                  + 1⎠⋅⎜- ─────────────────────────────\n",
              "                                              ⎜        θₚᵣ⋅(Wₚₜ - θₚₘ)        \n",
              "                                              ⎝       ℯ                + 1    \n",
              "──────────────────────────────────────────────────────────────────────────────\n",
              "                                            θₜᵣ⋅(Wₐₜ - θₜ₀) - 1               \n",
              "                 -θₜᵣ⋅(Wₐₜ - θₜ₀ + θ_td) + ℯ                                  \n",
              "                ℯ                                               + 1           \n",
              "\n",
              "      \n",
              "     ⎞\n",
              "     ⎟\n",
              "     ⎟\n",
              "1    ⎟\n",
              "─ + 1⎟\n",
              "     ⎟\n",
              "     ⎠\n",
              "──────\n",
              "      \n",
              "      \n",
              "      "
            ]
          },
          "metadata": {
            "tags": []
          },
          "execution_count": 62
        }
      ]
    },
    {
      "cell_type": "markdown",
      "metadata": {
        "id": "TnrdTViRwGI-"
      },
      "source": [
        "3)Leaf area index (Sl)"
      ]
    },
    {
      "cell_type": "code",
      "metadata": {
        "colab": {
          "base_uri": "https://localhost:8080/",
          "height": 103
        },
        "id": "0sV3JCpIJo4J",
        "outputId": "4bc41bd7-0723-4046-c68a-19c73a9df163"
      },
      "source": [
        "f_wt = 1 / (1 + exp((ln(99)/0.175)*S_wt - 0.175))\n",
        "dSlt_dt = S_lt * (d_tt*theta_alpha*f_wt*(1 - (1/(1+exp(-1* 100 * ((S_at/theta_el) -1)))))* (1/exp(-1 * 100 *(exp(-1 * theta_k * S_lt)))) - (1/1+exp(-1 * theta_sr * (W_at/theta_sm - 1) )))\n",
        "dSlt_dt"
      ],
      "execution_count": 63,
      "outputs": [
        {
          "output_type": "execute_result",
          "data": {
            "image/png": "[encoded data removed]",
            "text/latex": "$\\displaystyle S_{lt} \\left(\\frac{\\theta_{\\alpha} \\left(1 - \\frac{1}{e^{- \\frac{100 S_{at}}{\\theta_{el}} + 100} + 1}\\right) \\left(1 + e^{- \\theta_{td} \\theta_{tr}}\\right) e^{100 e^{- S_{lt} \\theta_{k}}}}{\\left(0.839457020769207 e^{5.71428571428571 S_{wt} \\log{\\left(99 \\right)}} + 1\\right) \\left(e^{- \\theta_{tr} \\left(W_{at} - \\theta_{t0} + \\theta_{td}\\right) + e^{\\theta_{tr} \\left(W_{at} - \\theta_{t0}\\right) - 1}} + 1\\right)} - 1.0 - e^{- \\theta_{sr} \\left(\\frac{W_{at}}{\\theta_{sm}} - 1\\right)}\\right)$",
            "text/plain": [
              "    ⎛                                                                         \n",
              "    ⎜                             ⎛             1          ⎞ ⎛     -θ_td⋅θₜᵣ⎞ \n",
              "    ⎜                      θₐₗₚₕₐ⋅⎜1 - ────────────────────⎟⋅⎝1 + ℯ         ⎠⋅\n",
              "    ⎜                             ⎜       100⋅Sₐₜ          ⎟                  \n",
              "    ⎜                             ⎜     - ─────── + 100    ⎟                  \n",
              "    ⎜                             ⎜         θₑₗ            ⎟                  \n",
              "    ⎜                             ⎝    ℯ                + 1⎠                  \n",
              "Sₗₜ⋅⎜─────────────────────────────────────────────────────────────────────────\n",
              "    ⎜                                                       ⎛                 \n",
              "    ⎜⎛                   5.71428571428571⋅S_wt⋅log(99)    ⎞ ⎜ -θₜᵣ⋅(Wₐₜ - θₜ₀ \n",
              "    ⎝⎝0.839457020769207⋅ℯ                              + 1⎠⋅⎝ℯ                \n",
              "\n",
              "      -Sₗₜ⋅θₖ                                              ⎞\n",
              " 100⋅ℯ                                                     ⎟\n",
              "ℯ                                                          ⎟\n",
              "                                                           ⎟\n",
              "                                                  ⎛Wₐₜ    ⎞⎟\n",
              "                                             -θₛᵣ⋅⎜─── - 1⎟⎟\n",
              "                                                  ⎝θₛₘ    ⎠⎟\n",
              "─────────────────────────────────── - 1.0 - ℯ              ⎟\n",
              "           θₜᵣ⋅(Wₐₜ - θₜ₀) - 1    ⎞                        ⎟\n",
              "+ θ_td) + ℯ                       ⎟                        ⎟\n",
              "                               + 1⎠                        ⎠"
            ]
          },
          "metadata": {
            "tags": []
          },
          "execution_count": 63
        }
      ]
    },
    {
      "cell_type": "markdown",
      "metadata": {
        "id": "2WZtw7xkwKY2"
      },
      "source": [
        "4) Biomass (Sb)"
      ]
    },
    {
      "cell_type": "code",
      "metadata": {
        "colab": {
          "base_uri": "https://localhost:8080/",
          "height": 142
        },
        "id": "6RuBdCTLQuw3",
        "outputId": "d1707d03-2632-4b83-b486-f27330331821"
      },
      "source": [
        "dSbt_dt = theta_rue * W_st * (1- exp(-1*theta_k * S_lt) * f_wt* d_tt * (1- (1/ (1+exp(-100 * (S_at/theta_m -1)*(1-(1/1+exp(-100*((1000 * S_yt) /(theta_gx *S_gt) -1)))) )) ) ))\n",
        "dSbt_dt"
      ],
      "execution_count": 64,
      "outputs": [
        {
          "output_type": "execute_result",
          "data": {
            "image/png": "[encoded data removed]",
            "text/latex": "$\\displaystyle W_{st} \\theta_{rue} \\left(- \\frac{\\left(1 - \\frac{1}{1 + e^{- \\left(- \\frac{100 S_{at}}{\\theta_{m}} + 100\\right) e^{100 - \\frac{100000 S_{yt}}{S_{gt} \\theta_{gx}}}}}\\right) \\left(1 + e^{- \\theta_{td} \\theta_{tr}}\\right) e^{- S_{lt} \\theta_{k}}}{\\left(0.839457020769207 e^{5.71428571428571 S_{wt} \\log{\\left(99 \\right)}} + 1\\right) \\left(e^{- \\theta_{tr} \\left(W_{at} - \\theta_{t0} + \\theta_{td}\\right) + e^{\\theta_{tr} \\left(W_{at} - \\theta_{t0}\\right) - 1}} + 1\\right)} + 1\\right)$",
            "text/plain": [
              "         ⎛                   ⎛                        1                     ⎞ \n",
              "         ⎜                   ⎜1 - ──────────────────────────────────────────⎟⋅\n",
              "         ⎜                   ⎜                                   100000⋅S_yt⎟ \n",
              "         ⎜                   ⎜                             100 - ───────────⎟ \n",
              "         ⎜                   ⎜          ⎛  100⋅Sₐₜ      ⎞         S_gt⋅θ_gx ⎟ \n",
              "         ⎜                   ⎜         -⎜- ─────── + 100⎟⋅ℯ                 ⎟ \n",
              "         ⎜                   ⎜          ⎝     θₘ        ⎠                   ⎟ \n",
              "         ⎜                   ⎝    1 + ℯ                                     ⎠ \n",
              "Wₛₜ⋅θᵣᵤₑ⋅⎜- ──────────────────────────────────────────────────────────────────\n",
              "         ⎜                                                         ⎛          \n",
              "         ⎜  ⎛                   5.71428571428571⋅S_wt⋅log(99)    ⎞ ⎜ -θₜᵣ⋅(Wₐₜ\n",
              "         ⎝  ⎝0.839457020769207⋅ℯ                              + 1⎠⋅⎝ℯ         \n",
              "\n",
              "⎛     -θ_td⋅θₜᵣ⎞  -Sₗₜ⋅θₖ                     ⎞\n",
              "⎝1 + ℯ         ⎠⋅ℯ                            ⎟\n",
              "                                              ⎟\n",
              "                                              ⎟\n",
              "                                              ⎟\n",
              "                                              ⎟\n",
              "                                              ⎟\n",
              "                                              ⎟\n",
              "────────────────────────────────────────── + 1⎟\n",
              "                  θₜᵣ⋅(Wₐₜ - θₜ₀) - 1    ⎞    ⎟\n",
              " - θₜ₀ + θ_td) + ℯ                       ⎟    ⎟\n",
              "                                      + 1⎠    ⎠"
            ]
          },
          "metadata": {
            "tags": []
          },
          "execution_count": 64
        }
      ]
    },
    {
      "cell_type": "markdown",
      "metadata": {
        "id": "aeLVXH1mwOA_"
      },
      "source": [
        "\n",
        "5) Grain number (Sg)"
      ]
    },
    {
      "cell_type": "code",
      "metadata": {
        "colab": {
          "base_uri": "https://localhost:8080/",
          "height": 166
        },
        "id": "9ryY6SKdSV6l",
        "outputId": "de01b216-633d-40c2-e790-de2f5181a933"
      },
      "source": [
        "dSgt_dt = dSbt_dt * theta_gb * (1 / (1 + exp(-1 * 100 * (S_at/theta_a)-1))) * (1 - (1/(1+exp(-1 * 100 * (S_at/theta_ts -1)))))\n",
        "dSgt_dt "
      ],
      "execution_count": 65,
      "outputs": [
        {
          "output_type": "execute_result",
          "data": {
            "image/png": "[encoded data removed]",
            "text/latex": "$\\displaystyle \\frac{W_{st} \\theta_{gb} \\theta_{rue} \\left(1 - \\frac{1}{e^{- \\frac{100 S_{at}}{\\theta_{ts}} + 100} + 1}\\right) \\left(- \\frac{\\left(1 - \\frac{1}{1 + e^{- \\left(- \\frac{100 S_{at}}{\\theta_{m}} + 100\\right) e^{100 - \\frac{100000 S_{yt}}{S_{gt} \\theta_{gx}}}}}\\right) \\left(1 + e^{- \\theta_{td} \\theta_{tr}}\\right) e^{- S_{lt} \\theta_{k}}}{\\left(0.839457020769207 e^{5.71428571428571 S_{wt} \\log{\\left(99 \\right)}} + 1\\right) \\left(e^{- \\theta_{tr} \\left(W_{at} - \\theta_{t0} + \\theta_{td}\\right) + e^{\\theta_{tr} \\left(W_{at} - \\theta_{t0}\\right) - 1}} + 1\\right)} + 1\\right)}{e^{- \\frac{100 S_{at}}{\\theta_{a}} - 1} + 1}$",
            "text/plain": [
              "                                         ⎛                   ⎛                \n",
              "                                         ⎜                   ⎜1 - ────────────\n",
              "                                         ⎜                   ⎜                \n",
              "                                         ⎜                   ⎜                \n",
              "                                         ⎜                   ⎜          ⎛  100\n",
              "                                         ⎜                   ⎜         -⎜- ───\n",
              "                                         ⎜                   ⎜          ⎝     \n",
              "              ⎛             1          ⎞ ⎜                   ⎝    1 + ℯ       \n",
              "Wₛₜ⋅θ_gb⋅θᵣᵤₑ⋅⎜1 - ────────────────────⎟⋅⎜- ──────────────────────────────────\n",
              "              ⎜       100⋅Sₐₜ          ⎟ ⎜                                    \n",
              "              ⎜     - ─────── + 100    ⎟ ⎜  ⎛                   5.714285714285\n",
              "              ⎜         θₜₛ            ⎟ ⎝  ⎝0.839457020769207⋅ℯ              \n",
              "              ⎝    ℯ                + 1⎠                                      \n",
              "──────────────────────────────────────────────────────────────────────────────\n",
              "                                                                         100⋅S\n",
              "                                                                       - ─────\n",
              "                                                                            θₐ\n",
              "                                                                      ℯ       \n",
              "\n",
              "        1                     ⎞ ⎛     -θ_td⋅θₜᵣ⎞  -Sₗₜ⋅θₖ                     \n",
              "──────────────────────────────⎟⋅⎝1 + ℯ         ⎠⋅ℯ                            \n",
              "                   100000⋅S_yt⎟                                               \n",
              "             100 - ───────────⎟                                               \n",
              "⋅Sₐₜ      ⎞         S_gt⋅θ_gx ⎟                                               \n",
              "──── + 100⎟⋅ℯ                 ⎟                                               \n",
              "θₘ        ⎠                   ⎟                                               \n",
              "                              ⎠                                               \n",
              "────────────────────────────────────────────────────────────────────────── + 1\n",
              "                     ⎛                            θₜᵣ⋅(Wₐₜ - θₜ₀) - 1    ⎞    \n",
              "71⋅S_wt⋅log(99)    ⎞ ⎜ -θₜᵣ⋅(Wₐₜ - θₜ₀ + θ_td) + ℯ                       ⎟    \n",
              "                + 1⎠⋅⎝ℯ                                               + 1⎠    \n",
              "                                                                              \n",
              "──────────────────────────────────────────────────────────────────────────────\n",
              "ₐₜ                                                                            \n",
              "── - 1                                                                        \n",
              "                                                                              \n",
              "       + 1                                                                    \n",
              "\n",
              "⎞\n",
              "⎟\n",
              "⎟\n",
              "⎟\n",
              "⎟\n",
              "⎟\n",
              "⎟\n",
              "⎟\n",
              "⎟\n",
              "⎟\n",
              "⎟\n",
              "⎠\n",
              " \n",
              "─\n",
              " \n",
              " \n",
              " \n",
              " "
            ]
          },
          "metadata": {
            "tags": []
          },
          "execution_count": 65
        }
      ]
    },
    {
      "cell_type": "markdown",
      "metadata": {
        "id": "T8Vr5-KgwRTD"
      },
      "source": [
        "6) Yield (S)"
      ]
    },
    {
      "cell_type": "code",
      "metadata": {
        "colab": {
          "base_uri": "https://localhost:8080/",
          "height": 166
        },
        "id": "M-ndbKBgav3c",
        "outputId": "2ac5f29f-c0b1-44d8-dd39-d4768ce6dc50"
      },
      "source": [
        "dSyt_dt = dSbt_dt * (1/ (1+exp(-1 * 100* (S_at/theta_a -1))))\n",
        "dSyt_dt"
      ],
      "execution_count": 66,
      "outputs": [
        {
          "output_type": "execute_result",
          "data": {
            "image/png": "[encoded data removed]",
            "text/latex": "$\\displaystyle \\frac{W_{st} \\theta_{rue} \\left(- \\frac{\\left(1 - \\frac{1}{1 + e^{- \\left(- \\frac{100 S_{at}}{\\theta_{m}} + 100\\right) e^{100 - \\frac{100000 S_{yt}}{S_{gt} \\theta_{gx}}}}}\\right) \\left(1 + e^{- \\theta_{td} \\theta_{tr}}\\right) e^{- S_{lt} \\theta_{k}}}{\\left(0.839457020769207 e^{5.71428571428571 S_{wt} \\log{\\left(99 \\right)}} + 1\\right) \\left(e^{- \\theta_{tr} \\left(W_{at} - \\theta_{t0} + \\theta_{td}\\right) + e^{\\theta_{tr} \\left(W_{at} - \\theta_{t0}\\right) - 1}} + 1\\right)} + 1\\right)}{e^{- \\frac{100 S_{at}}{\\theta_{a}} + 100} + 1}$",
            "text/plain": [
              "         ⎛                   ⎛                        1                     ⎞ \n",
              "         ⎜                   ⎜1 - ──────────────────────────────────────────⎟⋅\n",
              "         ⎜                   ⎜                                   100000⋅S_yt⎟ \n",
              "         ⎜                   ⎜                             100 - ───────────⎟ \n",
              "         ⎜                   ⎜          ⎛  100⋅Sₐₜ      ⎞         S_gt⋅θ_gx ⎟ \n",
              "         ⎜                   ⎜         -⎜- ─────── + 100⎟⋅ℯ                 ⎟ \n",
              "         ⎜                   ⎜          ⎝     θₘ        ⎠                   ⎟ \n",
              "         ⎜                   ⎝    1 + ℯ                                     ⎠ \n",
              "Wₛₜ⋅θᵣᵤₑ⋅⎜- ──────────────────────────────────────────────────────────────────\n",
              "         ⎜                                                         ⎛          \n",
              "         ⎜  ⎛                   5.71428571428571⋅S_wt⋅log(99)    ⎞ ⎜ -θₜᵣ⋅(Wₐₜ\n",
              "         ⎝  ⎝0.839457020769207⋅ℯ                              + 1⎠⋅⎝ℯ         \n",
              "──────────────────────────────────────────────────────────────────────────────\n",
              "                                                        100⋅Sₐₜ               \n",
              "                                                      - ─────── + 100         \n",
              "                                                           θₐ                 \n",
              "                                                     ℯ                + 1     \n",
              "\n",
              "⎛     -θ_td⋅θₜᵣ⎞  -Sₗₜ⋅θₖ                     ⎞\n",
              "⎝1 + ℯ         ⎠⋅ℯ                            ⎟\n",
              "                                              ⎟\n",
              "                                              ⎟\n",
              "                                              ⎟\n",
              "                                              ⎟\n",
              "                                              ⎟\n",
              "                                              ⎟\n",
              "────────────────────────────────────────── + 1⎟\n",
              "                  θₜᵣ⋅(Wₐₜ - θₜ₀) - 1    ⎞    ⎟\n",
              " - θₜ₀ + θ_td) + ℯ                       ⎟    ⎟\n",
              "                                      + 1⎠    ⎠\n",
              "───────────────────────────────────────────────\n",
              "                                               \n",
              "                                               \n",
              "                                               \n",
              "                                               "
            ]
          },
          "metadata": {
            "tags": []
          },
          "execution_count": 66
        }
      ]
    },
    {
      "cell_type": "markdown",
      "metadata": {
        "id": "eHRd6qB4wU_C"
      },
      "source": [
        "7)Soil water (Sw)"
      ]
    },
    {
      "cell_type": "code",
      "metadata": {
        "colab": {
          "base_uri": "https://localhost:8080/",
          "height": 162
        },
        "id": "-LCqx39tbT7O",
        "outputId": "188cbcc5-022c-471c-bea3-542b3f9dcc28"
      },
      "source": [
        "D_t = (4098 * 0.6108 * exp((17.27 * W_at)/W_at+237.3))/(W_at + 237.3)**2\n",
        "e_st = 0.6108 * (exp((17.27 * W_xt)/(W_xt + 237.3)) + exp((17.27 * W_nt)/W_nt +237.3)) /2 \n",
        "e_at = e_st * W_ht * 0.01\n",
        "gamma_t = 0.665 * 10**-3 * W_pt\n",
        "e0_t = ((0.408 * D_t * W_st) + (gamma_t * (900/(W_at + 273) * W_wt* (e_st - e_at))))/(D_t + gamma_t * (1+ 0.34 * W_wt))  \n",
        "\n",
        "\n",
        "k_ct = k_i + (1-exp(-1 * theta_k * S_lt)) * (k_m - k_i + (k_i-k_e)/(exp(-1 * 100 * (S_at/theta_alpha - 1) ) +1) ) - ( (k_i - k_e) / exp(-1 * 100 * (S_at/theta_alpha -1) +1))\n",
        "\n",
        "\n",
        "e_ct = e0_t * k_ct\n",
        "\n",
        "dSwt_dt = (W_rt/exp(-1 * 100 * (S_wt/S_xl + 1) ) + 1) - (e_ct * f_wt)\n",
        "\n",
        "dSwt_dt"
      ],
      "execution_count": 84,
      "outputs": [
        {
          "output_type": "execute_result",
          "data": {
            "image/png": "[encoded data removed]",
            "text/latex": "$\\displaystyle W_{rt|} e^{\\frac{100 S_{wt}}{S_{xl}} + 100} + 1 - \\frac{\\left(\\frac{0.5985 W_{pt} W_{wt} \\left(- 0.01 W_{ht} \\left(0.3054 e^{\\frac{17.27 W_{xt}}{W_{xt} + 237.3}} + 1.10462607546493 \\cdot 10^{110}\\right) + 0.3054 e^{\\frac{17.27 W_{xt}}{W_{xt} + 237.3}} + 1.10462607546493 \\cdot 10^{110}\\right)}{W_{at} + 273} + \\frac{6.55966902608748 \\cdot 10^{108} W_{st}}{\\left(0.00421407501053519 W_{at} + 1\\right)^{2}}\\right) \\left(k_{i} + \\left(1 - e^{- S_{lt} \\theta_{k}}\\right) \\left(- k_{i} + k_{m} + \\frac{- k_{e} + k_{i}}{e^{- \\frac{100 S_{at}}{\\theta_{\\alpha}} + 100} + 1}\\right) - \\left(- k_{e} + k_{i}\\right) e^{\\frac{100 S_{at}}{\\theta_{\\alpha}} - 101}\\right)}{\\left(0.000665 W_{pt} \\left(0.34 W_{wt} + 1\\right) + \\frac{1.60776201619791 \\cdot 10^{109}}{\\left(0.00421407501053519 W_{at} + 1\\right)^{2}}\\right) \\left(0.839457020769207 e^{5.71428571428571 S_{wt} \\log{\\left(99 \\right)}} + 1\\right)}$",
            "text/plain": [
              "                            ⎛                ⎛           ⎛         17.27⋅Wₓₜ  \n",
              "                            ⎜                ⎜           ⎜        ─────────── \n",
              "                            ⎜                ⎜           ⎜        Wₓₜ + 237.3 \n",
              "                            ⎜0.5985⋅Wₚₜ⋅W_wt⋅⎝- 0.01⋅Wₕₜ⋅⎝0.3054⋅ℯ            \n",
              "                            ⎜─────────────────────────────────────────────────\n",
              "                            ⎜                                                 \n",
              "       100⋅S_wt             ⎝                                                 \n",
              "       ──────── + 100                                                         \n",
              "         Sₓₗ                                                                  \n",
              "W_rt|⋅ℯ               + 1 - ──────────────────────────────────────────────────\n",
              "                                                                              \n",
              "                                                                              \n",
              "                                                                              \n",
              "                                                                              \n",
              "\n",
              "                       ⎞            17.27⋅Wₓₜ                         ⎞       \n",
              "                       ⎟           ───────────                        ⎟       \n",
              "                       ⎟           Wₓₜ + 237.3                        ⎟       \n",
              "+ 1.10462607546493e+110⎠ + 0.3054⋅ℯ            + 1.10462607546493e+110⎠     6.\n",
              "─────────────────────────────────────────────────────────────────────── + ────\n",
              "      Wₐₜ + 273                                                               \n",
              "                                                                          (0.0\n",
              "                                                                              \n",
              "                                                                              \n",
              "──────────────────────────────────────────────────────────────────────────────\n",
              "           ⎛                                   1.60776201619791e+109     ⎞ ⎛  \n",
              "           ⎜0.000665⋅Wₚₜ⋅(0.34⋅W_wt + 1) + ──────────────────────────────⎟⋅⎝0.\n",
              "           ⎜                                                            2⎟    \n",
              "           ⎝                               (0.00421407501053519⋅Wₐₜ + 1) ⎠    \n",
              "\n",
              "                          ⎞                                                   \n",
              "                          ⎟ ⎛                                                 \n",
              "                          ⎟ ⎜                                                 \n",
              "55966902608748e+108⋅Wₛₜ   ⎟ ⎜     ⎛     -Sₗₜ⋅θₖ⎞ ⎛                 -kₑ + kᵢ   \n",
              "──────────────────────────⎟⋅⎜kᵢ + ⎝1 - ℯ       ⎠⋅⎜-kᵢ + kₘ + ─────────────────\n",
              "                         2⎟ ⎜                    ⎜              100⋅Sₐₜ       \n",
              "0421407501053519⋅Wₐₜ + 1) ⎠ ⎜                    ⎜            - ─────── + 100 \n",
              "                            ⎜                    ⎜               θₐₗₚₕₐ       \n",
              "                            ⎝                    ⎝           ℯ                \n",
              "──────────────────────────────────────────────────────────────────────────────\n",
              "                 5.71428571428571⋅S_wt⋅log(99)    ⎞                           \n",
              "839457020769207⋅ℯ                              + 1⎠                           \n",
              "                                                                              \n",
              "                                                                              \n",
              "\n",
              "                                 \n",
              "                   100⋅Sₐₜ      ⎞\n",
              "                   ─────── - 101⎟\n",
              "   ⎞                θₐₗₚₕₐ      ⎟\n",
              "───⎟ - (-kₑ + kᵢ)⋅ℯ             ⎟\n",
              "   ⎟                            ⎟\n",
              "   ⎟                            ⎟\n",
              "   ⎟                            ⎟\n",
              "+ 1⎠                            ⎠\n",
              "─────────────────────────────────\n",
              "                                 \n",
              "                                 \n",
              "                                 \n",
              "                                 "
            ]
          },
          "metadata": {
            "tags": []
          },
          "execution_count": 84
        }
      ]
    },
    {
      "cell_type": "code",
      "metadata": {
        "id": "wuDkddKhoDeR"
      },
      "source": [
        "diff(dS_dT, theta_vr)\n",
        "diff(dS_dT, theta_vd)\n",
        "diff(dS_dT, theta_vo)\n",
        "diff(dS_dT, W_at)"
      ],
      "execution_count": null,
      "outputs": []
    },
    {
      "cell_type": "code",
      "metadata": {
        "id": "F0AJI4YUE0g2"
      },
      "source": [
        "F = sympy.Matrix([dSvt_dt,dSat_dt,dSlt_dt,dSbt_dt,dSgt_dt,dSyt_dt,dSwt_dt ])"
      ],
      "execution_count": 79,
      "outputs": []
    },
    {
      "cell_type": "code",
      "metadata": {
        "colab": {
          "base_uri": "https://localhost:8080/",
          "height": 37
        },
        "id": "Bp6XwM_-FP-S",
        "outputId": "0474b7f1-85a6-4a49-c777-dd5661dc9cd1"
      },
      "source": [
        "F.jacobian([S_xl, theta_vr, theta_vd, theta_vo, \n",
        "            theta_vs, theta_vq, theta_ps, theta_a,\n",
        "            theta_pr, theta_pm, theta_tr, theta_td, \n",
        "            theta_t0, theta_alpha, theta_el, theta_k,\n",
        "            theta_sr, theta_sm, theta_rue, theta_m,\n",
        "            theta_gx, theta_gb, theta_ts]).shape"
      ],
      "execution_count": 83,
      "outputs": [
        {
          "output_type": "execute_result",
          "data": {
            "image/png": "[encoded data removed]",
            "text/latex": "$\\displaystyle \\left( 7, \\  23\\right)$",
            "text/plain": [
              "(7, 23)"
            ]
          },
          "metadata": {
            "tags": []
          },
          "execution_count": 83
        }
      ]
    },
    {
      "cell_type": "code",
      "metadata": {
        "id": "tvT1qtHfFhP6"
      },
      "source": [
        ""
      ],
      "execution_count": null,
      "outputs": []
    }
  ]
}