{
  "nbformat": 4,
  "nbformat_minor": 0,
  "metadata": {
    "colab": {
      "name": "symbolicsolve.ipynb",
      "provenance": [],
      "collapsed_sections": [],
      "authorship_tag": "ABX9TyNpayTg5LY5klJ4G3nZobQl",
      "include_colab_link": true
    },
    "kernelspec": {
      "display_name": "Python 3",
      "name": "python3"
    },
    "language_info": {
      "name": "python"
    }
  },
  "cells": [
    {
      "cell_type": "markdown",
      "metadata": {
        "id": "view-in-github",
        "colab_type": "text"
      },
      "source": [
        "<a href=\"https://colab.research.google.com/github/sujithgunturu/Math799/blob/master/symbolicsolve.ipynb\" target=\"_parent\"><img src=\"https://colab.research.google.com/assets/colab-badge.svg\" alt=\"Open In Colab\"/></a>"
      ]
    },
    {
      "cell_type": "code",
      "metadata": {
        "id": "K8t90IxOHxi9"
      },
      "source": [
        "from sympy import *\n",
        "init_printing(use_unicode=True)"
      ],
      "execution_count": 16,
      "outputs": []
    },
    {
      "cell_type": "code",
      "metadata": {
        "id": "dBW-TEQoH1wb"
      },
      "source": [
        "S_xl, theta_vr,theta_vd, theta_vo, theta_vs, theta_vq, theta_ps, theta_a, theta_pr, \\\n",
        "theta_pm, theta_tr, theta_td, theta_t0, theta_alpha, theta_el, theta_k, theta_sr,\\\n",
        "theta_sm, theta_rue, theta_m, theta_gx, theta_gb, theta_ts, k_i, k_m, k_e,t\\\n",
        "= symbols('S_xl theta_vr theta_vd theta_vo theta_vs theta_vq theta_ps \\\n",
        "theta_a theta_pr theta_pm theta_tr, theta_td, theta_t0, theta_alpha, theta_el, theta_k\\\n",
        " theta_sr theta_sm theta_rue theta_m theta_gx theta_gb theta_ts k_i k_m k_e t')"
      ],
      "execution_count": 17,
      "outputs": []
    },
    {
      "cell_type": "code",
      "metadata": {
        "id": "4fLktaAyH5kE"
      },
      "source": [
        "S_vt = Function('S_vt')\n",
        "S_lt = Function('S_lt')\n",
        "S_at = Function('S_at')\n",
        "S_wt = Function('S_at')\n",
        "S_bt = Function('S_bt')\n",
        "S_yt = Function('S_yt')\n",
        "S_gt = Function('S_gt')"
      ],
      "execution_count": 18,
      "outputs": []
    },
    {
      "cell_type": "code",
      "metadata": {
        "id": "Ud4NWFs9H9nh"
      },
      "source": [
        "from scipy.interpolate import interp1d\n",
        "import numpy as np\n",
        "from sympy import *\n",
        "# DataPointsDomain = np.linspace(0, 10, 3, endpoint=True)\n",
        "# DataPointsRange =  np.cos(-DataPointsDomain**2/9.0)\n",
        "# average_daily_temperature = interpolating_spline(2, t, DataPointsDomain, DataPointsRange)\n",
        "# average_daily_temperature"
      ],
      "execution_count": 19,
      "outputs": []
    },
    {
      "cell_type": "code",
      "metadata": {
        "id": "nZxtl-PpH_kW"
      },
      "source": [
        "t = Symbol('t')\n",
        "W_at = t**2\n",
        "W_pt = t**2\n",
        "\n",
        "W_st = t**2\n",
        "W_nt = t**2\n",
        "W_ht = t**2\n",
        "\n",
        "W_pt2 = t**2\n",
        "W_st = t**2\n",
        "W_wt = t**2\n",
        "\n",
        "W_rt = t**2\n",
        "W_xt = t**2\n",
        "\n",
        "import numpy as np\n",
        "from scipy import interpolate\n",
        "import pandas as pd\n",
        "df = pd.read_csv('/content/Weather_data_2020.csv')\n",
        "x = np.linspace(0,4, 4, endpoint=True)\n",
        "\n",
        "\n",
        "# DataPointsRange =  np.cos(-DataPointsDomain**2/9.0)\n",
        "# average_daily_temperature = interpolating_spline(2, t, DataPointsDomain, DataPointsRange)\n",
        "# RELHUM2MAVG\n",
        "\n",
        "# y = df[\"RELHUM2MAVG\"][:4]\n",
        "# W_ht = interpolating_spline(2, t, x, y)\n",
        "# #W_ht = interpolate.interp1d(x, y, fill_value=\"extrapolate\")\n",
        "\n",
        "\n",
        "# #WSPD2MAVG\n",
        "# y = df[\"WSPD2MAVG\"][:4]\n",
        "# W_wt = interpolating_spline(2, t, x, y)\n",
        "# #W_wt = interpolate.interp1d(x, y, fill_value=\"extrapolate\")\n",
        "\n",
        "\n",
        "# #PRECIP\n",
        "# y = df[\"PRECIP\"][10:14]\n",
        "# W_rt = interpolating_spline(2, t, x, y)\n",
        "# #W_rt = interpolate.interp1d(x, y, fill_value=\"extrapolate\")\n",
        "\n",
        "\n",
        "# # (TEMP2MAVG)\n",
        "# y = df[\"TEMP2MAVG\"][:4]\n",
        "# W_at = interpolating_spline(2, t, x, y)\n",
        "# #W_at = interpolate.interp1d(x, y, fill_value=\"extrapolate\")\n",
        "\n",
        "\n",
        "# #SR\n",
        "# y = df[\"SR\"][:4]\n",
        "# W_st = interpolating_spline(2, t, x, y)\n",
        "# #W_st = interpolate.interp1d(x, y, fill_value=\"extrapolate\")\n",
        "\n",
        "\n",
        "# #PRESSUREAVG\n",
        "# y = df[\"PHOTOPERIOD\"][:4]\n",
        "# W_pt = interpolating_spline(2, t, x, y)\n",
        "# #W_pt = interpolate.interp1d(x, y, fill_value=\"extrapolate\")\n",
        "\n",
        "# #PHOTOPERIOD\n",
        "# y = df[\"PRESSUREAVG\"][:4]\n",
        "# W_pt2 = interpolating_spline(2, t, x, y)\n",
        "# #W_pt2 = interpolate.interp1d(x, y, fill_value=\"extrapolate\")\n",
        "\n",
        "# #TEMP2MMIN\n",
        "# y = df[\"TEMP2MMIN\"][:4]\n",
        "# W_nt = interpolating_spline(2, t, x, y)\n",
        "# #W_nt = interpolate.interp1d(x, y, fill_value=\"extrapolate\")\n",
        "\n",
        "\n",
        "# #TEMP2MMAX\n",
        "# y = df[\"TEMP2MMAX\"][:4]\n",
        "# W_xt = interpolating_spline(2, t, x, y)\n",
        "# #W_xt = interpolate.interp1d(x, y, fill_value=\"extrapolate\")\n"
      ],
      "execution_count": 20,
      "outputs": []
    },
    {
      "cell_type": "code",
      "metadata": {
        "id": "SuyRr20U1UjS"
      },
      "source": [
        "theta_vr = -0.28\n",
        "theta_vd = 5\n",
        "theta_vo = 4\n",
        "theta_vs = 1\n",
        "theta_vq = 42\n",
        "theta_ps = 0.8\n",
        "theta_pr = 0.44\n",
        "theta_pm = 10.67\n",
        "theta_tr = 0.14\n",
        "theta_td = -7.6\n",
        "theta_t0 = 24\n",
        "theta_alpha = 0.30\n",
        "theta_el = 18\n",
        "theta_k = 0.75\n",
        "theta_sr = 10\n",
        "theta_sm =35\n",
        "theta_gx = 45\n",
        "theta_m = 60\n",
        "theta_gb = 20\n",
        "theta_ts = 15\n",
        "theta_rue = 1.15\n",
        "theta_a = 36\n",
        "S_xl = 150\n",
        "# wrong, added for time being\n",
        "k_i = 0.45\n",
        "k_m = 1.3\n",
        "k_e = 0.2"
      ],
      "execution_count": 21,
      "outputs": []
    },
    {
      "cell_type": "markdown",
      "metadata": {
        "id": "7hx0h-8nwvrx"
      },
      "source": [
        "1"
      ]
    },
    {
      "cell_type": "code",
      "metadata": {
        "colab": {
          "base_uri": "https://localhost:8080/",
          "height": 54
        },
        "id": "sbTbahKWIGJw",
        "outputId": "ca885778-7051-4720-a428-b3a208ed4903"
      },
      "source": [
        "dSvt_dt = S_vt(t).diff(t)\n",
        "CV = Eq(dSvt_dt, (1 + exp(-1 * theta_vr * theta_vd))/(1+ (exp((-1 * theta_vr * (W_at - theta_vo + theta_vd)))) + ((exp( (theta_vr) * (W_at - theta_vo)  - 1)))))\n",
        "CV"
      ],
      "execution_count": 22,
      "outputs": [
        {
          "output_type": "execute_result",
          "data": {
            "image/png": "[encoded data removed]",
            "text/latex": "$\\displaystyle \\frac{d}{d t} \\operatorname{S_{vt}}{\\left(t \\right)} = \\frac{5.05519996684468}{1.32312981233744 e^{0.28 t^{2}} + 1 + 1.12749685157938 e^{- 0.28 t^{2}}}$",
            "text/plain": [
              "d                                 5.05519996684468                     \n",
              "──(Sᵥₜ(t)) = ──────────────────────────────────────────────────────────\n",
              "dt                                   2                                2\n",
              "                               0.28⋅t                          -0.28⋅t \n",
              "             1.32312981233744⋅ℯ        + 1 + 1.12749685157938⋅ℯ        "
            ]
          },
          "metadata": {
            "tags": []
          },
          "execution_count": 22
        }
      ]
    },
    {
      "cell_type": "markdown",
      "metadata": {
        "id": "DoGRyrBAww7q"
      },
      "source": [
        "2"
      ]
    },
    {
      "cell_type": "code",
      "metadata": {
        "colab": {
          "base_uri": "https://localhost:8080/",
          "height": 93
        },
        "id": "S_OfyT_4HOZ8",
        "outputId": "52715283-7757-46b4-b8d2-c0fb24aa726e"
      },
      "source": [
        "f_vt = 1-theta_vs*(1- 1/(1+exp(-10/theta_vq*(S_vt(t) - theta_vq/2))))\n",
        "f_pt = 1 - (1 - theta_ps * (1- (1 / (exp(-100 * (( S_at(t)/theta_a)-1) ))) )) * (1/(1 + exp(-theta_pr*(W_pt - theta_pm))))\n",
        "d_tt = (1 + exp(-1 * theta_tr * theta_td)) / (1 + exp(-1 * theta_tr *(W_at - theta_t0 + theta_td) + exp((theta_tr * (W_at - theta_t0)) -1)))\n",
        "dSat_dt = S_at(t).diff(t)\n",
        "PA = Eq(dSat_dt,f_vt * f_pt * d_tt)\n",
        "PA"
      ],
      "execution_count": 23,
      "outputs": [
        {
          "output_type": "execute_result",
          "data": {
            "image/png": "[encoded data removed]",
            "text/latex": "$\\displaystyle \\frac{d}{d t} \\operatorname{S_{at}}{\\left(t \\right)} = \\frac{3.89793959501171 \\left(1 - \\frac{0.8 e^{\\frac{25 \\operatorname{S_{at}}{\\left(t \\right)}}{9} - 100} + 0.2}{1 + 109.376931067915 e^{- 0.44 t^{2}}}\\right)}{\\left(1 + 148.413159102577 e^{- 0.238095238095238 \\operatorname{S_{vt}}{\\left(t \\right)}}\\right) \\left(83.4293361573075 e^{- 0.14 t^{2} + 0.0127783876495358 e^{0.14 t^{2}}} + 1\\right)}$",
            "text/plain": [
              "                                                            ⎛           25⋅Sₐₜ\n",
              "                                                            ⎜           ──────\n",
              "                                                            ⎜               9 \n",
              "                                                            ⎜      0.8⋅ℯ      \n",
              "                                           3.89793959501171⋅⎜1 - ─────────────\n",
              "                                                            ⎜                 \n",
              "                                                            ⎜                 \n",
              "d                                                           ⎝    1 + 109.37693\n",
              "──(Sₐₜ(t)) = ─────────────────────────────────────────────────────────────────\n",
              "dt                                                             ⎛              \n",
              "                                                               ⎜              \n",
              "             ⎛                      -0.238095238095238⋅Sᵥₜ(t)⎞ ⎜              \n",
              "             ⎝1 + 148.413159102577⋅ℯ                         ⎠⋅⎝83.42933615730\n",
              "\n",
              "(t)              ⎞                              \n",
              "─── - 100        ⎟                              \n",
              "                 ⎟                              \n",
              "          + 0.2  ⎟                              \n",
              "─────────────────⎟                              \n",
              "                2⎟                              \n",
              "         -0.44⋅t ⎟                              \n",
              "1067915⋅ℯ        ⎠                              \n",
              "────────────────────────────────────────────────\n",
              "                                          2    ⎞\n",
              "            2                       0.14⋅t     ⎟\n",
              "    - 0.14⋅t  + 0.0127783876495358⋅ℯ           ⎟\n",
              "75⋅ℯ                                        + 1⎠"
            ]
          },
          "metadata": {
            "tags": []
          },
          "execution_count": 23
        }
      ]
    },
    {
      "cell_type": "markdown",
      "metadata": {
        "id": "MlnP_lD8wxyy"
      },
      "source": [
        "3"
      ]
    },
    {
      "cell_type": "code",
      "metadata": {
        "colab": {
          "base_uri": "https://localhost:8080/",
          "height": 101
        },
        "id": "XuiCuW1kjZFk",
        "outputId": "c072a1ad-5902-41c0-a237-69f33d18a81b"
      },
      "source": [
        "f_wt = 1 / (1 + exp((-np.log (99)/0.175)*(S_wt(t) - 0.175)))\n",
        "dSlt_dt = S_lt(t).diff(t)\n",
        "LAI = Eq(dSlt_dt, S_lt(t) * (d_tt*theta_alpha*f_wt*(1 - (1/(1+exp(-1* 100 * ((S_at(t)/theta_el) -1)))))* (1/exp(-1 * 100 *(exp(-1 * theta_k * S_lt(t))))) - (1/1+exp(-1 * theta_sr * (W_at/theta_sm - 1) ))))\n",
        "LAI"
      ],
      "execution_count": 24,
      "outputs": [
        {
          "output_type": "execute_result",
          "data": {
            "image/png": "[encoded data removed]",
            "text/latex": "$\\displaystyle \\frac{d}{d t} \\operatorname{S_{lt}}{\\left(t \\right)} = \\left(\\frac{1.16938187850351 \\left(1 - \\frac{1}{e^{100 - \\frac{50 \\operatorname{S_{at}}{\\left(t \\right)}}{9}} + 1}\\right) e^{100 e^{- 0.75 \\operatorname{S_{lt}}{\\left(t \\right)}}}}{\\left(1 + 99.0 e^{- 26.2578277150548 \\operatorname{S_{at}}{\\left(t \\right)}}\\right) \\left(83.4293361573075 e^{- 0.14 t^{2} + 0.0127783876495358 e^{0.14 t^{2}}} + 1\\right)} - e^{10 - \\frac{2 t^{2}}{7}} - 1.0\\right) \\operatorname{S_{lt}}{\\left(t \\right)}$",
            "text/plain": [
              "             ⎛                                                                \n",
              "             ⎜                                    ⎛             1          ⎞  \n",
              "             ⎜                   1.16938187850351⋅⎜1 - ────────────────────⎟⋅ℯ\n",
              "             ⎜                                    ⎜           50⋅Sₐₜ(t)    ⎟  \n",
              "             ⎜                                    ⎜     100 - ─────────    ⎟  \n",
              "             ⎜                                    ⎜               9        ⎟  \n",
              "d            ⎜                                    ⎝    ℯ                + 1⎠  \n",
              "──(Sₗₜ(t)) = ⎜────────────────────────────────────────────────────────────────\n",
              "dt           ⎜                                     ⎛                          \n",
              "             ⎜                                     ⎜                          \n",
              "             ⎜⎛          -26.2578277150548⋅Sₐₜ(t)⎞ ⎜                  - 0.14⋅t\n",
              "             ⎝⎝1 + 99.0⋅ℯ                        ⎠⋅⎝83.4293361573075⋅ℯ        \n",
              "\n",
              "     -0.75⋅Sₗₜ(t)                                      ⎞       \n",
              "100⋅ℯ                                                  ⎟       \n",
              "                                                       ⎟       \n",
              "                                                2      ⎟       \n",
              "                                             2⋅t       ⎟       \n",
              "                                        10 - ────      ⎟       \n",
              "                                              7        ⎟       \n",
              "──────────────────────────────────── - ℯ          - 1.0⎟⋅Sₗₜ(t)\n",
              "                              2    ⎞                   ⎟       \n",
              "2                       0.14⋅t     ⎟                   ⎟       \n",
              "  + 0.0127783876495358⋅ℯ           ⎟                   ⎟       \n",
              "                                + 1⎠                   ⎠       "
            ]
          },
          "metadata": {
            "tags": []
          },
          "execution_count": 24
        }
      ]
    },
    {
      "cell_type": "markdown",
      "metadata": {
        "id": "HjrFJvh_wzCx"
      },
      "source": [
        "4"
      ]
    },
    {
      "cell_type": "code",
      "metadata": {
        "colab": {
          "base_uri": "https://localhost:8080/",
          "height": 142
        },
        "id": "-lRW_rmpw0JS",
        "outputId": "a72a4f69-a4da-4119-83f6-49306ea11328"
      },
      "source": [
        "dSbt_dt = S_bt(t).diff(t)\n",
        "BIO = Eq(dSbt_dt, theta_rue * W_st * (1- exp(-1*theta_k * S_lt(t)) * f_wt* d_tt * (1- (1/ (1+exp(-100 * (S_at(t)/theta_m -1)*(1-(1/1+exp(-100*((1000 * S_yt(t)) /(theta_gx *S_gt(t)) -1)))) )) ) )))\n",
        "BIO"
      ],
      "execution_count": 25,
      "outputs": [
        {
          "output_type": "execute_result",
          "data": {
            "image/png": "[encoded data removed]",
            "text/latex": "$\\displaystyle \\frac{d}{d t} \\operatorname{S_{bt}}{\\left(t \\right)} = 1.15 t^{2} \\left(- \\frac{3.89793959501171 \\left(1 - \\frac{1}{1 + e^{- \\left(100 - \\frac{5 \\operatorname{S_{at}}{\\left(t \\right)}}{3}\\right) e^{100 - \\frac{20000 \\operatorname{S_{yt}}{\\left(t \\right)}}{9 \\operatorname{S_{gt}}{\\left(t \\right)}}}}}\\right) e^{- 0.75 \\operatorname{S_{lt}}{\\left(t \\right)}}}{\\left(1 + 99.0 e^{- 26.2578277150548 \\operatorname{S_{at}}{\\left(t \\right)}}\\right) \\left(83.4293361573075 e^{- 0.14 t^{2} + 0.0127783876495358 e^{0.14 t^{2}}} + 1\\right)} + 1\\right)$",
            "text/plain": [
              "                      ⎛                             ⎛                         \n",
              "                      ⎜            3.89793959501171⋅⎜1 - ─────────────────────\n",
              "                      ⎜                             ⎜                         \n",
              "                      ⎜                             ⎜                         \n",
              "                      ⎜                             ⎜          ⎛      5⋅Sₐₜ(t)\n",
              "                      ⎜                             ⎜         -⎜100 - ────────\n",
              "                      ⎜                             ⎜          ⎝         3    \n",
              "d                   2 ⎜                             ⎝    1 + ℯ                \n",
              "──(S_bt(t)) = 1.15⋅t ⋅⎜- ─────────────────────────────────────────────────────\n",
              "dt                    ⎜                                       ⎛               \n",
              "                      ⎜                                       ⎜               \n",
              "                      ⎜  ⎛          -26.2578277150548⋅Sₐₜ(t)⎞ ⎜               \n",
              "                      ⎝  ⎝1 + 99.0⋅ℯ                        ⎠⋅⎝83.429336157307\n",
              "\n",
              "1                     ⎞  -0.75⋅Sₗₜ(t)              ⎞\n",
              "──────────────────────⎟⋅ℯ                          ⎟\n",
              "         20000⋅S_yt(t)⎟                            ⎟\n",
              "   100 - ─────────────⎟                            ⎟\n",
              "⎞          9⋅S_gt(t)  ⎟                            ⎟\n",
              "⎟⋅ℯ                   ⎟                            ⎟\n",
              "⎠                     ⎟                            ⎟\n",
              "                      ⎠                            ⎟\n",
              "─────────────────────────────────────────────── + 1⎟\n",
              "                                         2    ⎞    ⎟\n",
              "           2                       0.14⋅t     ⎟    ⎟\n",
              "   - 0.14⋅t  + 0.0127783876495358⋅ℯ           ⎟    ⎟\n",
              "5⋅ℯ                                        + 1⎠    ⎠"
            ]
          },
          "metadata": {
            "tags": []
          },
          "execution_count": 25
        }
      ]
    },
    {
      "cell_type": "markdown",
      "metadata": {
        "id": "9T0KKlM7x-71"
      },
      "source": [
        "5"
      ]
    },
    {
      "cell_type": "code",
      "metadata": {
        "colab": {
          "base_uri": "https://localhost:8080/",
          "height": 82
        },
        "id": "SXa54c1SyBg9",
        "outputId": "39077850-4db0-49e0-e384-c78d2b85ea6a"
      },
      "source": [
        "dSgt_dt = S_gt(t).diff(t)\n",
        "GN = Eq(dSgt_dt, dSbt_dt * theta_gb * (1 / (1 + exp(-1 * 100 * (S_at(t)/theta_a)-1))) * (1 - (1/(1+exp(-1 * 100 * (S_at(t)/theta_ts -1))))))\n",
        "GN"
      ],
      "execution_count": 26,
      "outputs": [
        {
          "output_type": "execute_result",
          "data": {
            "image/png": "[encoded data removed]",
            "text/latex": "$\\displaystyle \\frac{d}{d t} \\operatorname{S_{gt}}{\\left(t \\right)} = \\frac{20 \\left(1 - \\frac{1}{e^{100 - \\frac{20 \\operatorname{S_{at}}{\\left(t \\right)}}{3}} + 1}\\right) \\frac{d}{d t} \\operatorname{S_{bt}}{\\left(t \\right)}}{e^{- \\frac{25 \\operatorname{S_{at}}{\\left(t \\right)}}{9} - 1} + 1}$",
            "text/plain": [
              "                 ⎛             1          ⎞ d          \n",
              "              20⋅⎜1 - ────────────────────⎟⋅──(S_bt(t))\n",
              "                 ⎜           20⋅Sₐₜ(t)    ⎟ dt         \n",
              "                 ⎜     100 - ─────────    ⎟            \n",
              "                 ⎜               3        ⎟            \n",
              "d                ⎝    ℯ                + 1⎠            \n",
              "──(S_gt(t)) = ─────────────────────────────────────────\n",
              "dt                          25⋅Sₐₜ(t)                  \n",
              "                          - ───────── - 1              \n",
              "                                9                      \n",
              "                         ℯ                + 1          "
            ]
          },
          "metadata": {
            "tags": []
          },
          "execution_count": 26
        }
      ]
    },
    {
      "cell_type": "markdown",
      "metadata": {
        "id": "aSObdQdhziFO"
      },
      "source": [
        "6"
      ]
    },
    {
      "cell_type": "code",
      "metadata": {
        "colab": {
          "base_uri": "https://localhost:8080/",
          "height": 62
        },
        "id": "rjSCB1Fly8Me",
        "outputId": "e7a5515b-b672-4bae-d2a7-7f5e1180d025"
      },
      "source": [
        "\n",
        "dSyt_dt = S_yt(t).diff(t)\n",
        "Y = Eq(dSyt_dt, dSbt_dt * (1/ (1+exp(-1 * 100* (S_at(t)/theta_a -1)))))\n",
        "Y"
      ],
      "execution_count": 27,
      "outputs": [
        {
          "output_type": "execute_result",
          "data": {
            "image/png": "[encoded data removed]",
            "text/latex": "$\\displaystyle \\frac{d}{d t} \\operatorname{S_{yt}}{\\left(t \\right)} = \\frac{\\frac{d}{d t} \\operatorname{S_{bt}}{\\left(t \\right)}}{e^{100 - \\frac{25 \\operatorname{S_{at}}{\\left(t \\right)}}{9}} + 1}$",
            "text/plain": [
              "                  d               \n",
              "                  ──(S_bt(t))     \n",
              "d                 dt              \n",
              "──(S_yt(t)) = ────────────────────\n",
              "dt                   25⋅Sₐₜ(t)    \n",
              "               100 - ─────────    \n",
              "                         9        \n",
              "              ℯ                + 1"
            ]
          },
          "metadata": {
            "tags": []
          },
          "execution_count": 27
        }
      ]
    },
    {
      "cell_type": "markdown",
      "metadata": {
        "id": "3YVlh9lOzjF_"
      },
      "source": [
        "7"
      ]
    },
    {
      "cell_type": "code",
      "metadata": {
        "colab": {
          "base_uri": "https://localhost:8080/",
          "height": 190
        },
        "id": "ud-3zeOqzkSt",
        "outputId": "bfbf58bd-4095-44ef-ff9b-e2c6c4e7dc25"
      },
      "source": [
        "D_t = (4098 * 0.6108 * exp((17.27 * W_at)/W_at+237.3))/(W_at + 237.3)**2\n",
        "e_st = 0.6108 * (exp((17.27 * W_xt)/(W_xt + 237.3)) + exp((17.27 * W_nt)/W_nt +237.3)) /2 \n",
        "e_at = e_st * W_ht * 0.01\n",
        "gamma_t = 0.665 * 10**-3 * W_pt2\n",
        "e0_t = ((0.408 * D_t * (W_st)) + (gamma_t * (900/(W_at + 273) * W_wt* (e_st - e_at))))/(D_t + gamma_t * (1+ 0.34 * W_wt))\n",
        "#k_ct = k_i + (1-exp(-1 * theta_k * S_lt(t))) * (k_m - k_i + (k_i-k_e)/(exp(-1 * 100 * (S_at(t)/theta_a - 1) ) +1) ) - ( (k_i - k_e) / exp(-1 * 100 * (S_at(t)/theta_a -1) +1))\n",
        "k_ct = 0.45 + (1-exp(-1 * theta_k * S_lt(t))) * (1.3 - 0.45 + (0.45-0.2)/(exp(-1 * 100 * (S_at(t)/theta_a - 1) ) +1) ) - ( (0.45 - 0.2) / exp(-1 * 100 * (S_at(t)/theta_a -1) +1))\n",
        "e_ct = e0_t * k_ct\n",
        "dSWt_dt = S_wt(t).diff(t)\n",
        "SW = Eq(dSWt_dt, ((W_rt)/exp(-1 * 100 * (S_wt(t)/S_xl + 1) ) + 1) - (e_ct * f_wt))\n",
        "SW"
      ],
      "execution_count": 28,
      "outputs": [
        {
          "output_type": "execute_result",
          "data": {
            "image/png": "[encoded data removed]",
            "text/latex": "$\\displaystyle \\frac{d}{d t} \\operatorname{S_{at}}{\\left(t \\right)} = t^{2} e^{\\frac{2 \\operatorname{S_{at}}{\\left(t \\right)}}{3} + 100} + 1 - \\frac{\\left(\\frac{0.5985 t^{4} \\left(- 0.01 t^{2} \\left(0.3054 e^{\\frac{17.27 t^{2}}{t^{2} + 237.3}} + 1.10462607546493 \\cdot 10^{110}\\right) + 0.3054 e^{\\frac{17.27 t^{2}}{t^{2} + 237.3}} + 1.10462607546493 \\cdot 10^{110}\\right)}{t^{2} + 273} + \\frac{6.55966902608748 \\cdot 10^{108} t^{2}}{\\left(0.00421407501053519 t^{2} + 1\\right)^{2}}\\right) \\left(\\left(0.85 + \\frac{0.25}{e^{100 - \\frac{25 \\operatorname{S_{at}}{\\left(t \\right)}}{9}} + 1}\\right) \\left(1 - e^{- 0.75 \\operatorname{S_{lt}}{\\left(t \\right)}}\\right) - 0.25 e^{\\frac{25 \\operatorname{S_{at}}{\\left(t \\right)}}{9} - 101} + 0.45\\right)}{\\left(1 + 99.0 e^{- 26.2578277150548 \\operatorname{S_{at}}{\\left(t \\right)}}\\right) \\left(0.000665 t^{2} \\left(0.34 t^{2} + 1\\right) + \\frac{1.60776201619791 \\cdot 10^{109}}{\\left(0.00421407501053519 t^{2} + 1\\right)^{2}}\\right)}$",
            "text/plain": [
              "                                      ⎛          ⎛          ⎛                2\n",
              "                                      ⎜          ⎜          ⎜         17.27⋅t \n",
              "                                      ⎜          ⎜          ⎜        ─────────\n",
              "                                      ⎜          ⎜          ⎜         2       \n",
              "                                      ⎜        4 ⎜        2 ⎜        t  + 237.\n",
              "                                      ⎜0.5985⋅t ⋅⎝- 0.01⋅t ⋅⎝0.3054⋅ℯ         \n",
              "                                      ⎜───────────────────────────────────────\n",
              "                                      ⎜                                       \n",
              "                 2⋅Sₐₜ(t)             ⎜                                       \n",
              "                 ──────── + 100       ⎝                                       \n",
              "d             2     3                                                         \n",
              "──(Sₐₜ(t)) = t ⋅ℯ               + 1 - ────────────────────────────────────────\n",
              "dt                                                                            \n",
              "                                                                              \n",
              "                                                                              \n",
              "                                                                              \n",
              "                                                                              \n",
              "\n",
              "                         ⎞                   2                         ⎞      \n",
              "                         ⎟            17.27⋅t                          ⎟      \n",
              "─                        ⎟           ──────────                        ⎟      \n",
              "                         ⎟            2                                ⎟      \n",
              "3                        ⎟           t  + 237.3                        ⎟      \n",
              "  + 1.10462607546493e+110⎠ + 0.3054⋅ℯ           + 1.10462607546493e+110⎠      \n",
              "──────────────────────────────────────────────────────────────────────── + ───\n",
              "              2                                                               \n",
              "             t  + 273                                                      ⎛  \n",
              "                                                                           ⎝0.\n",
              "                                                                              \n",
              "──────────────────────────────────────────────────────────────────────────────\n",
              "                          ⎛          -26.2578277150548⋅Sₐₜ(t)⎞ ⎛          2 ⎛ \n",
              "                          ⎝1 + 99.0⋅ℯ                        ⎠⋅⎜0.000665⋅t ⋅⎝0\n",
              "                                                               ⎜              \n",
              "                                                               ⎜              \n",
              "                                                               ⎝              \n",
              "\n",
              "                          ⎞                                                   \n",
              "                          ⎟                                                   \n",
              "                          ⎟                                                   \n",
              "                          ⎟ ⎛                                                 \n",
              "                       2  ⎟ ⎜                                                 \n",
              "6.55966902608748e+108⋅t   ⎟ ⎜⎛               0.25        ⎞ ⎛     -0.75⋅Sₗₜ(t)⎞\n",
              "──────────────────────────⎟⋅⎜⎜0.85 + ────────────────────⎟⋅⎝1 - ℯ            ⎠\n",
              "                         2⎟ ⎜⎜              25⋅Sₐₜ(t)    ⎟                    \n",
              "                   2    ⎞ ⎟ ⎜⎜        100 - ─────────    ⎟                    \n",
              "00421407501053519⋅t  + 1⎠ ⎠ ⎜⎜                  9        ⎟                    \n",
              "                            ⎝⎝       ℯ                + 1⎠                    \n",
              "──────────────────────────────────────────────────────────────────────────────\n",
              "     2    ⎞       1.60776201619791e+109    ⎞                                  \n",
              ".34⋅t  + 1⎠ + ─────────────────────────────⎟                                  \n",
              "                                          2⎟                                  \n",
              "              ⎛                     2    ⎞ ⎟                                  \n",
              "              ⎝0.00421407501053519⋅t  + 1⎠ ⎠                                  \n",
              "\n",
              "                                \n",
              "                                \n",
              "                                \n",
              "         25⋅Sₐₜ(t)             ⎞\n",
              "         ───────── - 101       ⎟\n",
              "             9                 ⎟\n",
              " - 0.25⋅ℯ                + 0.45⎟\n",
              "                               ⎟\n",
              "                               ⎟\n",
              "                               ⎟\n",
              "                               ⎠\n",
              "────────────────────────────────\n",
              "                                \n",
              "                                \n",
              "                                \n",
              "                                \n",
              "                                "
            ]
          },
          "metadata": {
            "tags": []
          },
          "execution_count": 28
        }
      ]
    },
    {
      "cell_type": "code",
      "metadata": {
        "colab": {
          "base_uri": "https://localhost:8080/"
        },
        "id": "AUnwwHlZXZw9",
        "outputId": "9a1ef192-a4ed-414f-dc9f-ed1abaca4edb"
      },
      "source": [
        "%time\n",
        "system = [CV, PA, LAI, BIO, GN, Y, SW]\n",
        "ics = {S_vt(0): 0, \n",
        "      S_at(0): 0,\n",
        "      S_lt(0): 0,\n",
        "      S_bt(0): 0,\n",
        "      S_gt(0): 0,\n",
        "      S_yt(0): 0,\n",
        "      S_wt(0): 0}\n",
        "something = dsolve(system, [S_vt(t), S_at(t),\n",
        "                S_lt(t), S_bt(t),\n",
        "                S_gt(t), S_yt(t), \n",
        "                S_wt(t)], ics=ics)"
      ],
      "execution_count": null,
      "outputs": [
        {
          "output_type": "stream",
          "text": [
            "CPU times: user 4 µs, sys: 0 ns, total: 4 µs\n",
            "Wall time: 7.87 µs\n"
          ],
          "name": "stdout"
        }
      ]
    },
    {
      "cell_type": "code",
      "metadata": {
        "id": "xccTPn361Hdb",
        "colab": {
          "base_uri": "https://localhost:8080/",
          "height": 341
        },
        "outputId": "b46799cf-6139-4b81-a5c8-41885bc42110"
      },
      "source": [
        "F = Matrix([CV.rhs,PA.rhs,LAI.rhs, BIO.rhs, GN.rhs, Y.rhs, SW.rhs])\n",
        "F.jacobian([S_xl, theta_vr, theta_vd, theta_vo, \n",
        "            theta_vs, theta_vq, theta_ps, theta_a,\n",
        "            theta_pr, theta_pm, theta_tr, theta_td, \n",
        "            theta_t0, theta_alpha, theta_el, theta_k,\n",
        "            theta_sr, theta_sm, theta_rue, theta_m,\n",
        "            theta_gx, theta_gb, theta_ts])"
      ],
      "execution_count": 100,
      "outputs": [
        {
          "output_type": "error",
          "ename": "ValueError",
          "evalue": "ignored",
          "traceback": [
            "\u001b[0;31m---------------------------------------------------------------------------\u001b[0m",
            "\u001b[0;31mValueError\u001b[0m                                Traceback (most recent call last)",
            "\u001b[0;32m<ipython-input-100-23aba1885bb5>\u001b[0m in \u001b[0;36m<module>\u001b[0;34m()\u001b[0m\n\u001b[1;32m      5\u001b[0m             \u001b[0mtheta_t0\u001b[0m\u001b[0;34m,\u001b[0m \u001b[0mtheta_alpha\u001b[0m\u001b[0;34m,\u001b[0m \u001b[0mtheta_el\u001b[0m\u001b[0;34m,\u001b[0m \u001b[0mtheta_k\u001b[0m\u001b[0;34m,\u001b[0m\u001b[0;34m\u001b[0m\u001b[0;34m\u001b[0m\u001b[0m\n\u001b[1;32m      6\u001b[0m             \u001b[0mtheta_sr\u001b[0m\u001b[0;34m,\u001b[0m \u001b[0mtheta_sm\u001b[0m\u001b[0;34m,\u001b[0m \u001b[0mtheta_rue\u001b[0m\u001b[0;34m,\u001b[0m \u001b[0mtheta_m\u001b[0m\u001b[0;34m,\u001b[0m\u001b[0;34m\u001b[0m\u001b[0;34m\u001b[0m\u001b[0m\n\u001b[0;32m----> 7\u001b[0;31m             theta_gx, theta_gb, theta_ts])\n\u001b[0m",
            "\u001b[0;32m/usr/local/lib/python3.7/dist-packages/sympy/matrices/matrices.py\u001b[0m in \u001b[0;36mjacobian\u001b[0;34m(self, X)\u001b[0m\n\u001b[1;32m    548\u001b[0m         \u001b[0;31m# m is the number of functions and n is the number of variables\u001b[0m\u001b[0;34m\u001b[0m\u001b[0;34m\u001b[0m\u001b[0;34m\u001b[0m\u001b[0m\n\u001b[1;32m    549\u001b[0m         \u001b[0;31m# computing the Jacobian is now easy:\u001b[0m\u001b[0;34m\u001b[0m\u001b[0;34m\u001b[0m\u001b[0;34m\u001b[0m\u001b[0m\n\u001b[0;32m--> 550\u001b[0;31m         \u001b[0;32mreturn\u001b[0m \u001b[0mself\u001b[0m\u001b[0;34m.\u001b[0m\u001b[0m_new\u001b[0m\u001b[0;34m(\u001b[0m\u001b[0mm\u001b[0m\u001b[0;34m,\u001b[0m \u001b[0mn\u001b[0m\u001b[0;34m,\u001b[0m \u001b[0;32mlambda\u001b[0m \u001b[0mj\u001b[0m\u001b[0;34m,\u001b[0m \u001b[0mi\u001b[0m\u001b[0;34m:\u001b[0m \u001b[0mself\u001b[0m\u001b[0;34m[\u001b[0m\u001b[0mj\u001b[0m\u001b[0;34m]\u001b[0m\u001b[0;34m.\u001b[0m\u001b[0mdiff\u001b[0m\u001b[0;34m(\u001b[0m\u001b[0mX\u001b[0m\u001b[0;34m[\u001b[0m\u001b[0mi\u001b[0m\u001b[0;34m]\u001b[0m\u001b[0;34m)\u001b[0m\u001b[0;34m)\u001b[0m\u001b[0;34m\u001b[0m\u001b[0;34m\u001b[0m\u001b[0m\n\u001b[0m\u001b[1;32m    551\u001b[0m \u001b[0;34m\u001b[0m\u001b[0m\n\u001b[1;32m    552\u001b[0m     \u001b[0;32mdef\u001b[0m \u001b[0mlimit\u001b[0m\u001b[0;34m(\u001b[0m\u001b[0mself\u001b[0m\u001b[0;34m,\u001b[0m \u001b[0;34m*\u001b[0m\u001b[0margs\u001b[0m\u001b[0;34m)\u001b[0m\u001b[0;34m:\u001b[0m\u001b[0;34m\u001b[0m\u001b[0;34m\u001b[0m\u001b[0m\n",
            "\u001b[0;32m/usr/local/lib/python3.7/dist-packages/sympy/matrices/dense.py\u001b[0m in \u001b[0;36m_new\u001b[0;34m(cls, copy, *args, **kwargs)\u001b[0m\n\u001b[1;32m    304\u001b[0m             \u001b[0mrows\u001b[0m\u001b[0;34m,\u001b[0m \u001b[0mcols\u001b[0m\u001b[0;34m,\u001b[0m \u001b[0mflat_list\u001b[0m \u001b[0;34m=\u001b[0m \u001b[0margs\u001b[0m\u001b[0;34m\u001b[0m\u001b[0;34m\u001b[0m\u001b[0m\n\u001b[1;32m    305\u001b[0m         \u001b[0;32melse\u001b[0m\u001b[0;34m:\u001b[0m\u001b[0;34m\u001b[0m\u001b[0;34m\u001b[0m\u001b[0m\n\u001b[0;32m--> 306\u001b[0;31m             \u001b[0mrows\u001b[0m\u001b[0;34m,\u001b[0m \u001b[0mcols\u001b[0m\u001b[0;34m,\u001b[0m \u001b[0mflat_list\u001b[0m \u001b[0;34m=\u001b[0m \u001b[0mcls\u001b[0m\u001b[0;34m.\u001b[0m\u001b[0m_handle_creation_inputs\u001b[0m\u001b[0;34m(\u001b[0m\u001b[0;34m*\u001b[0m\u001b[0margs\u001b[0m\u001b[0;34m,\u001b[0m \u001b[0;34m**\u001b[0m\u001b[0mkwargs\u001b[0m\u001b[0;34m)\u001b[0m\u001b[0;34m\u001b[0m\u001b[0;34m\u001b[0m\u001b[0m\n\u001b[0m\u001b[1;32m    307\u001b[0m             \u001b[0mflat_list\u001b[0m \u001b[0;34m=\u001b[0m \u001b[0mlist\u001b[0m\u001b[0;34m(\u001b[0m\u001b[0mflat_list\u001b[0m\u001b[0;34m)\u001b[0m \u001b[0;31m# create a shallow copy\u001b[0m\u001b[0;34m\u001b[0m\u001b[0;34m\u001b[0m\u001b[0m\n\u001b[1;32m    308\u001b[0m         \u001b[0mself\u001b[0m \u001b[0;34m=\u001b[0m \u001b[0mobject\u001b[0m\u001b[0;34m.\u001b[0m\u001b[0m__new__\u001b[0m\u001b[0;34m(\u001b[0m\u001b[0mcls\u001b[0m\u001b[0;34m)\u001b[0m\u001b[0;34m\u001b[0m\u001b[0;34m\u001b[0m\u001b[0m\n",
            "\u001b[0;32m/usr/local/lib/python3.7/dist-packages/sympy/matrices/matrices.py\u001b[0m in \u001b[0;36m_handle_creation_inputs\u001b[0;34m(cls, *args, **kwargs)\u001b[0m\n\u001b[1;32m   1067\u001b[0m                     flat_list.extend(\n\u001b[1;32m   1068\u001b[0m                         [cls._sympify(op(cls._sympify(i), cls._sympify(j)))\n\u001b[0;32m-> 1069\u001b[0;31m                          for j in range(cols)])\n\u001b[0m\u001b[1;32m   1070\u001b[0m \u001b[0;34m\u001b[0m\u001b[0m\n\u001b[1;32m   1071\u001b[0m             \u001b[0;31m# Matrix(2, 2, [1, 2, 3, 4])\u001b[0m\u001b[0;34m\u001b[0m\u001b[0;34m\u001b[0m\u001b[0;34m\u001b[0m\u001b[0m\n",
            "\u001b[0;32m/usr/local/lib/python3.7/dist-packages/sympy/matrices/matrices.py\u001b[0m in \u001b[0;36m<listcomp>\u001b[0;34m(.0)\u001b[0m\n\u001b[1;32m   1067\u001b[0m                     flat_list.extend(\n\u001b[1;32m   1068\u001b[0m                         [cls._sympify(op(cls._sympify(i), cls._sympify(j)))\n\u001b[0;32m-> 1069\u001b[0;31m                          for j in range(cols)])\n\u001b[0m\u001b[1;32m   1070\u001b[0m \u001b[0;34m\u001b[0m\u001b[0m\n\u001b[1;32m   1071\u001b[0m             \u001b[0;31m# Matrix(2, 2, [1, 2, 3, 4])\u001b[0m\u001b[0;34m\u001b[0m\u001b[0;34m\u001b[0m\u001b[0;34m\u001b[0m\u001b[0m\n",
            "\u001b[0;32m/usr/local/lib/python3.7/dist-packages/sympy/matrices/matrices.py\u001b[0m in \u001b[0;36m<lambda>\u001b[0;34m(j, i)\u001b[0m\n\u001b[1;32m    548\u001b[0m         \u001b[0;31m# m is the number of functions and n is the number of variables\u001b[0m\u001b[0;34m\u001b[0m\u001b[0;34m\u001b[0m\u001b[0;34m\u001b[0m\u001b[0m\n\u001b[1;32m    549\u001b[0m         \u001b[0;31m# computing the Jacobian is now easy:\u001b[0m\u001b[0;34m\u001b[0m\u001b[0;34m\u001b[0m\u001b[0;34m\u001b[0m\u001b[0m\n\u001b[0;32m--> 550\u001b[0;31m         \u001b[0;32mreturn\u001b[0m \u001b[0mself\u001b[0m\u001b[0;34m.\u001b[0m\u001b[0m_new\u001b[0m\u001b[0;34m(\u001b[0m\u001b[0mm\u001b[0m\u001b[0;34m,\u001b[0m \u001b[0mn\u001b[0m\u001b[0;34m,\u001b[0m \u001b[0;32mlambda\u001b[0m \u001b[0mj\u001b[0m\u001b[0;34m,\u001b[0m \u001b[0mi\u001b[0m\u001b[0;34m:\u001b[0m \u001b[0mself\u001b[0m\u001b[0;34m[\u001b[0m\u001b[0mj\u001b[0m\u001b[0;34m]\u001b[0m\u001b[0;34m.\u001b[0m\u001b[0mdiff\u001b[0m\u001b[0;34m(\u001b[0m\u001b[0mX\u001b[0m\u001b[0;34m[\u001b[0m\u001b[0mi\u001b[0m\u001b[0;34m]\u001b[0m\u001b[0;34m)\u001b[0m\u001b[0;34m)\u001b[0m\u001b[0;34m\u001b[0m\u001b[0;34m\u001b[0m\u001b[0m\n\u001b[0m\u001b[1;32m    551\u001b[0m \u001b[0;34m\u001b[0m\u001b[0m\n\u001b[1;32m    552\u001b[0m     \u001b[0;32mdef\u001b[0m \u001b[0mlimit\u001b[0m\u001b[0;34m(\u001b[0m\u001b[0mself\u001b[0m\u001b[0;34m,\u001b[0m \u001b[0;34m*\u001b[0m\u001b[0margs\u001b[0m\u001b[0;34m)\u001b[0m\u001b[0;34m:\u001b[0m\u001b[0;34m\u001b[0m\u001b[0;34m\u001b[0m\u001b[0m\n",
            "\u001b[0;32m/usr/local/lib/python3.7/dist-packages/sympy/core/expr.py\u001b[0m in \u001b[0;36mdiff\u001b[0;34m(self, *symbols, **assumptions)\u001b[0m\n\u001b[1;32m   3472\u001b[0m     \u001b[0;32mdef\u001b[0m \u001b[0mdiff\u001b[0m\u001b[0;34m(\u001b[0m\u001b[0mself\u001b[0m\u001b[0;34m,\u001b[0m \u001b[0;34m*\u001b[0m\u001b[0msymbols\u001b[0m\u001b[0;34m,\u001b[0m \u001b[0;34m**\u001b[0m\u001b[0massumptions\u001b[0m\u001b[0;34m)\u001b[0m\u001b[0;34m:\u001b[0m\u001b[0;34m\u001b[0m\u001b[0;34m\u001b[0m\u001b[0m\n\u001b[1;32m   3473\u001b[0m         \u001b[0massumptions\u001b[0m\u001b[0;34m.\u001b[0m\u001b[0msetdefault\u001b[0m\u001b[0;34m(\u001b[0m\u001b[0;34m\"evaluate\"\u001b[0m\u001b[0;34m,\u001b[0m \u001b[0;32mTrue\u001b[0m\u001b[0;34m)\u001b[0m\u001b[0;34m\u001b[0m\u001b[0;34m\u001b[0m\u001b[0m\n\u001b[0;32m-> 3474\u001b[0;31m         \u001b[0;32mreturn\u001b[0m \u001b[0m_derivative_dispatch\u001b[0m\u001b[0;34m(\u001b[0m\u001b[0mself\u001b[0m\u001b[0;34m,\u001b[0m \u001b[0;34m*\u001b[0m\u001b[0msymbols\u001b[0m\u001b[0;34m,\u001b[0m \u001b[0;34m**\u001b[0m\u001b[0massumptions\u001b[0m\u001b[0;34m)\u001b[0m\u001b[0;34m\u001b[0m\u001b[0;34m\u001b[0m\u001b[0m\n\u001b[0m\u001b[1;32m   3475\u001b[0m \u001b[0;34m\u001b[0m\u001b[0m\n\u001b[1;32m   3476\u001b[0m     \u001b[0;31m###########################################################################\u001b[0m\u001b[0;34m\u001b[0m\u001b[0;34m\u001b[0m\u001b[0;34m\u001b[0m\u001b[0m\n",
            "\u001b[0;32m/usr/local/lib/python3.7/dist-packages/sympy/core/function.py\u001b[0m in \u001b[0;36m_derivative_dispatch\u001b[0;34m(expr, *variables, **kwargs)\u001b[0m\n\u001b[1;32m   1940\u001b[0m         \u001b[0;32mfrom\u001b[0m \u001b[0msympy\u001b[0m\u001b[0;34m.\u001b[0m\u001b[0mtensor\u001b[0m\u001b[0;34m.\u001b[0m\u001b[0marray\u001b[0m\u001b[0;34m.\u001b[0m\u001b[0marray_derivatives\u001b[0m \u001b[0;32mimport\u001b[0m \u001b[0mArrayDerivative\u001b[0m\u001b[0;34m\u001b[0m\u001b[0;34m\u001b[0m\u001b[0m\n\u001b[1;32m   1941\u001b[0m         \u001b[0;32mreturn\u001b[0m \u001b[0mArrayDerivative\u001b[0m\u001b[0;34m(\u001b[0m\u001b[0mexpr\u001b[0m\u001b[0;34m,\u001b[0m \u001b[0;34m*\u001b[0m\u001b[0mvariables\u001b[0m\u001b[0;34m,\u001b[0m \u001b[0;34m**\u001b[0m\u001b[0mkwargs\u001b[0m\u001b[0;34m)\u001b[0m\u001b[0;34m\u001b[0m\u001b[0;34m\u001b[0m\u001b[0m\n\u001b[0;32m-> 1942\u001b[0;31m     \u001b[0;32mreturn\u001b[0m \u001b[0mDerivative\u001b[0m\u001b[0;34m(\u001b[0m\u001b[0mexpr\u001b[0m\u001b[0;34m,\u001b[0m \u001b[0;34m*\u001b[0m\u001b[0mvariables\u001b[0m\u001b[0;34m,\u001b[0m \u001b[0;34m**\u001b[0m\u001b[0mkwargs\u001b[0m\u001b[0;34m)\u001b[0m\u001b[0;34m\u001b[0m\u001b[0;34m\u001b[0m\u001b[0m\n\u001b[0m\u001b[1;32m   1943\u001b[0m \u001b[0;34m\u001b[0m\u001b[0m\n\u001b[1;32m   1944\u001b[0m \u001b[0;34m\u001b[0m\u001b[0m\n",
            "\u001b[0;32m/usr/local/lib/python3.7/dist-packages/sympy/core/function.py\u001b[0m in \u001b[0;36m__new__\u001b[0;34m(cls, expr, *variables, **kwargs)\u001b[0m\n\u001b[1;32m   1307\u001b[0m             \u001b[0;32mif\u001b[0m \u001b[0misinstance\u001b[0m\u001b[0;34m(\u001b[0m\u001b[0mv\u001b[0m\u001b[0;34m,\u001b[0m \u001b[0mInteger\u001b[0m\u001b[0;34m)\u001b[0m\u001b[0;34m:\u001b[0m\u001b[0;34m\u001b[0m\u001b[0;34m\u001b[0m\u001b[0m\n\u001b[1;32m   1308\u001b[0m                 \u001b[0;32mif\u001b[0m \u001b[0mi\u001b[0m \u001b[0;34m==\u001b[0m \u001b[0;36m0\u001b[0m\u001b[0;34m:\u001b[0m\u001b[0;34m\u001b[0m\u001b[0;34m\u001b[0m\u001b[0m\n\u001b[0;32m-> 1309\u001b[0;31m                     \u001b[0;32mraise\u001b[0m \u001b[0mValueError\u001b[0m\u001b[0;34m(\u001b[0m\u001b[0;34m\"First variable cannot be a number: %i\"\u001b[0m \u001b[0;34m%\u001b[0m \u001b[0mv\u001b[0m\u001b[0;34m)\u001b[0m\u001b[0;34m\u001b[0m\u001b[0;34m\u001b[0m\u001b[0m\n\u001b[0m\u001b[1;32m   1310\u001b[0m                 \u001b[0mcount\u001b[0m \u001b[0;34m=\u001b[0m \u001b[0mv\u001b[0m\u001b[0;34m\u001b[0m\u001b[0;34m\u001b[0m\u001b[0m\n\u001b[1;32m   1311\u001b[0m                 \u001b[0mprev\u001b[0m\u001b[0;34m,\u001b[0m \u001b[0mprevcount\u001b[0m \u001b[0;34m=\u001b[0m \u001b[0mvariable_count\u001b[0m\u001b[0;34m[\u001b[0m\u001b[0;34m-\u001b[0m\u001b[0;36m1\u001b[0m\u001b[0;34m]\u001b[0m\u001b[0;34m\u001b[0m\u001b[0;34m\u001b[0m\u001b[0m\n",
            "\u001b[0;31mValueError\u001b[0m: First variable cannot be a number: 150"
          ]
        }
      ]
    },
    {
      "cell_type": "code",
      "metadata": {
        "colab": {
          "base_uri": "https://localhost:8080/",
          "height": 52
        },
        "id": "VrAp9EYwHV9g",
        "outputId": "157d59c7-7d7c-4f32-ab64-536ab28f2a3b"
      },
      "source": [
        "a = Function('a')\n",
        "b = Function('b')\n",
        "da_dt = a(t).diff(t)\n",
        "db_dt = b(t).diff(t)\n",
        "f1 = Eq(da_dt, a(t)/exp(t**2))\n",
        "f1 = Eq(db_dt, a(t))\n",
        "f1\n"
      ],
      "execution_count": 96,
      "outputs": [
        {
          "output_type": "execute_result",
          "data": {
            "image/png": "[encoded data removed]",
            "text/latex": "$\\displaystyle \\frac{d}{d t} b{\\left(t \\right)} = a{\\left(t \\right)}$",
            "text/plain": [
              "d              \n",
              "──(b(t)) = a(t)\n",
              "dt             "
            ]
          },
          "metadata": {
            "tags": []
          },
          "execution_count": 96
        }
      ]
    },
    {
      "cell_type": "code",
      "metadata": {
        "colab": {
          "base_uri": "https://localhost:8080/",
          "height": 52
        },
        "id": "qErKJIoYLV0q",
        "outputId": "1e862bcc-215d-491d-fa3c-5dac4e975d5a"
      },
      "source": [
        "fuckoff2"
      ],
      "execution_count": 97,
      "outputs": [
        {
          "output_type": "execute_result",
          "data": {
            "image/png": "[encoded data removed]",
            "text/latex": "$\\displaystyle \\frac{d}{d t} b{\\left(t \\right)} = a{\\left(t \\right)}$",
            "text/plain": [
              "d              \n",
              "──(b(t)) = a(t)\n",
              "dt             "
            ]
          },
          "metadata": {
            "tags": []
          },
          "execution_count": 97
        }
      ]
    },
    {
      "cell_type": "code",
      "metadata": {
        "colab": {
          "base_uri": "https://localhost:8080/",
          "height": 79
        },
        "id": "7JwKHycYIDsN",
        "outputId": "7716d1e8-2c28-4040-8907-b86e854265e0"
      },
      "source": [
        "dsolve([fuckoff1, fuckoff2], ics={a(0):0, b(0):0})"
      ],
      "execution_count": 98,
      "outputs": [
        {
          "output_type": "execute_result",
          "data": {
            "image/png": "[encoded data removed]",
            "text/latex": "$\\displaystyle \\left[ a{\\left(t \\right)} = 0, \\  b{\\left(t \\right)} = - C_{1} \\int\\limits^{0} e^{\\frac{\\sqrt{\\pi} \\operatorname{erf}{\\left(t \\right)}}{2}}\\, dt\\right]$",
            "text/plain": [
              "⎡                     0              ⎤\n",
              "⎢                     ⌠              ⎥\n",
              "⎢                     ⎮  √π⋅erf(t)   ⎥\n",
              "⎢                     ⎮  ─────────   ⎥\n",
              "⎢                     ⎮      2       ⎥\n",
              "⎢a(t) = 0, b(t) = -C₁⋅⎮ ℯ          dt⎥\n",
              "⎢                     ⌡              ⎥\n",
              "⎣                                    ⎦"
            ]
          },
          "metadata": {
            "tags": []
          },
          "execution_count": 98
        }
      ]
    },
    {
      "cell_type": "code",
      "metadata": {
        "id": "DYLk2HSBIVAg"
      },
      "source": [
        ""
      ],
      "execution_count": null,
      "outputs": []
    }
  ]
}