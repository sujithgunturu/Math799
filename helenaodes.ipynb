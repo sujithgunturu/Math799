{
  "nbformat": 4,
  "nbformat_minor": 0,
  "metadata": {
    "colab": {
      "name": "helenaodes.ipynb",
      "provenance": [],
      "collapsed_sections": [],
      "authorship_tag": "ABX9TyNjJZAJkSDY/1Z0xvg94JSD",
      "include_colab_link": true
    },
    "kernelspec": {
      "display_name": "Python 3",
      "name": "python3"
    },
    "language_info": {
      "name": "python"
    }
  },
  "cells": [
    {
      "cell_type": "markdown",
      "metadata": {
        "id": "view-in-github",
        "colab_type": "text"
      },
      "source": [
        "<a href=\"https://colab.research.google.com/github/sujithgunturu/Math799/blob/master/helenaodes.ipynb\" target=\"_parent\"><img src=\"https://colab.research.google.com/assets/colab-badge.svg\" alt=\"Open In Colab\"/></a>"
      ]
    },
    {
      "cell_type": "code",
      "metadata": {
        "id": "O3j-ce8j1eQf"
      },
      "source": [
        "from scipy.integrate import odeint\n",
        "import numpy as np\n",
        "import matplotlib.pyplot as plt\n",
        "from scipy import interpolate\n",
        "import pandas as pd\n",
        "df = pd.read_csv('/content/Weather_data_2020.csv')\n",
        "x = np.linspace(0,100, 100)\n",
        "\n",
        "# RELHUM2MAVG\n",
        "y = df[\"RELHUM2MAVG\"][:100]\n",
        "Wht = interpolate.interp1d(x, y, fill_value=\"extrapolate\")\n",
        "\n",
        "\n",
        "#WSPD2MAVG\n",
        "y = df[\"WSPD2MAVG\"][:100]\n",
        "Wwt = interpolate.interp1d(x, y, fill_value=\"extrapolate\")\n",
        "\n",
        "\n",
        "#PRECIP\n",
        "y = df[\"PRECIP\"][100:200]\n",
        "Wrt = interpolate.interp1d(x, y, fill_value=\"extrapolate\")\n",
        "\n",
        "\n",
        "# (TEMP2MAVG)\n",
        "y = df[\"TEMP2MAVG\"][:100]\n",
        "Wat = interpolate.interp1d(x, y, fill_value=\"extrapolate\")\n",
        "\n",
        "\n",
        "#SR\n",
        "y = df[\"SR\"][:100]\n",
        "Wst = interpolate.interp1d(x, y, fill_value=\"extrapolate\")\n",
        "\n",
        "\n",
        "#PRESSUREAVG\n",
        "y = df[\"PHOTOPERIOD\"][:100]\n",
        "Wpt1 = interpolate.interp1d(x, y, fill_value=\"extrapolate\")\n",
        "\n",
        "#PHOTOPERIOD\n",
        "y = df[\"PRESSUREAVG\"][:100]\n",
        "Wpt2 = interpolate.interp1d(x, y, fill_value=\"extrapolate\")\n",
        "\n",
        "#TEMP2MMIN\n",
        "y = df[\"TEMP2MMIN\"][:100]\n",
        "Wnt = interpolate.interp1d(x, y, fill_value=\"extrapolate\")\n",
        "\n",
        "\n",
        "#TEMP2MMAX\n",
        "y = df[\"TEMP2MMAX\"][:100]\n",
        "Wxt = interpolate.interp1d(x, y, fill_value=\"extrapolate\")\n",
        "\n",
        "def rhs(SV, t, \n",
        "        theta_vr,theta_vd, theta_vo,\n",
        "        theta_vs, theta_vq, theta_ps, \n",
        "        theta_pr, theta_pm, theta_tr, \n",
        "        theta_td, theta_t0,theta_alpha, \n",
        "        theta_el, theta_k, theta_sr, \n",
        "        theta_sm,theta_gx, theta_m, \n",
        "        theta_gb,theta_ts, theta_rue,\n",
        "        theta_a, Sxl):\n",
        "        #k_m, k_i,k_e ):\n",
        "  Svt, Sat, Slt, Sbt, Sgt, Syt, Swt = SV\n",
        "\n",
        "  \n",
        "  dsvt_dt = (1 + np.exp(-1 * theta_vr * theta_vd))/(np.exp(-1 * theta_vr * (Wat(t) - theta_vo + theta_vd) + np.exp(theta_vr) * (Wat(t) - theta_vo) - 1)+1 )\n",
        "  f_vt = 1-theta_vs*(1- 1/(1+np.exp(-10/theta_vq*(Svt- theta_vq/2))))\n",
        "  f_pt = 1 - (1 - theta_ps * (1- (1 / (np.exp(-100 * (( Sat/theta_a)-1) ))) )) * (1/(1 + np.exp(-theta_pr*(Wpt1(t) - theta_pm))))\n",
        "  d_tt = (1 + np.exp(-1 * theta_tr * theta_td)) / (1 + np.exp(-1 * theta_tr *(Wat(t) - theta_t0 + theta_td) + np.exp((theta_tr * (Wat(t) - theta_t0)) -1)))\n",
        "  dSat_dt = f_vt * f_pt * d_tt\n",
        "  f_wt = 1 / (1 + np.exp((-np.log (99)/0.175)*(Swt - 0.175)))\n",
        "  dSlt_dt = Slt * (d_tt*theta_alpha*f_wt*(1 - (1/(1+np.exp(-1* 100 * ((Sat/theta_el) -1)))))* (1/np.exp(-1 * 100 *(np.exp(-1 * theta_k * Slt)))) - (1/1+np.exp(-1 * theta_sr * (Wat(t)/theta_sm - 1) )))\n",
        "  dSbt_dt = theta_rue * Wst(t) * (1- np.exp(-1*theta_k * Slt) * f_wt* d_tt * (1- (1/ (1+np.exp(-100 * (Sat/theta_m -1)*(1-(1/1+np.exp(-100*((1000 * Syt) /(theta_gx *Sgt) -1)))) )) ) ))\n",
        "  dSgt_dt = dSbt_dt * theta_gb * (1 / (1 + np.exp(-1 * 100 * (Sat/theta_a)-1))) * (1 - (1/(1+np.exp(-1 * 100 * (Sat/theta_ts -1)))))\n",
        "  dSyt_dt = dSbt_dt * (1/ (1+np.exp(-1 * 100* (Sat/theta_a -1))))\n",
        "  D_t = (4098 * 0.6108 * np.exp((17.27 * Wat(t))/Wat(t)+237.3))/(Wat(t) + 237.3)**2\n",
        "  \n",
        "  e_st = 0.6108 * (np.exp((17.27 * Wxt(t))/(Wxt(t) + 237.3)) + np.exp((17.27 * Wnt(t))/Wnt(t) +237.3)) /2 \n",
        "  e_at = e_st * Wht(t) * 0.01\n",
        "  gamma_t = 0.665 * 10**-3 * Wpt2(t)\n",
        "  e0_t = ((0.408 * D_t * (Wst(t))) + (gamma_t * (900/(Wat(t) + 273) * Wwt(t)* (e_st - e_at))))/(D_t + gamma_t * (1+ 0.34 * Wwt(t)))  \n",
        "  #k_ct = k_i + (1-np.exp(-1 * theta_k * Slt)) * (k_m - k_i + (k_i-k_e)/(np.exp(-1 * 100 * (Sat/theta_a - 1) ) +1) ) - ( (k_i - k_e) / np.exp(-1 * 100 * (Sat/theta_a -1) +1))\n",
        "  k_ct = 0.45 + (1-np.exp(-1 * theta_k * Slt)) * (1.3 - 0.45 + (0.45-0.2)/(np.exp(-1 * 100 * (Sat/theta_a - 1) ) +1) ) - ( (0.45 - 0.2) / np.exp(-1 * 100 * (Sat/theta_a -1) +1))\n",
        "  e_ct = e0_t * k_ct\n",
        "  dSwt_dt = ((Wrt(t))/np.exp(-1 * 100 * (Swt/Sxl + 1) ) + 1) - (e_ct * f_wt)\n",
        "  return np.array([dsvt_dt,dSat_dt,dSlt_dt,dSbt_dt,dSgt_dt,dSyt_dt, dSwt_dt])"
      ],
      "execution_count": null,
      "outputs": []
    },
    {
      "cell_type": "code",
      "metadata": {
        "colab": {
          "base_uri": "https://localhost:8080/"
        },
        "id": "lk_IH_-F1PY1",
        "outputId": "03d1f33f-aefe-4f9d-9f67-fb7c9a977042"
      },
      "source": [
        "theta_vr = -0.28\n",
        "theta_vd = 5\n",
        "theta_vo = 4\n",
        "theta_vs = 1\n",
        "theta_vq = 42\n",
        "theta_ps = 0.8\n",
        "theta_pr = 0.44\n",
        "theta_pm = 10.67\n",
        "theta_tr = 0.14\n",
        "theta_td = -7.6\n",
        "theta_t0 = 24\n",
        "theta_alpha = 0.30\n",
        "theta_el = 18\n",
        "theta_k = 0.75\n",
        "theta_sr = 10\n",
        "theta_sm =35\n",
        "theta_gx = 45\n",
        "theta_m = 60\n",
        "theta_gb = 20\n",
        "theta_ts = 15\n",
        "theta_rue = 1.15\n",
        "theta_a = 36\n",
        "Sxl = 150\n",
        "# wrong, added for time being\n",
        "k_i = 0.45\n",
        "k_m = 1.3\n",
        "k_e = 0.2\n",
        "params = (theta_vr,theta_vd, theta_vo,\n",
        "        theta_vs, theta_vq, theta_ps, \n",
        "        theta_pr, theta_pm, theta_tr, \n",
        "        theta_td, theta_t0,theta_alpha, \n",
        "        theta_el, theta_k, theta_sr, \n",
        "        theta_sm,theta_gx, theta_m, \n",
        "        theta_gb,theta_ts, theta_rue,\n",
        "        theta_a, Sxl)\n",
        "        #k_m, k_i,k_e,\n",
        "StateVars=np.array([0, 0, 0.01, 0.5, 0, 0.5, 75])\n",
        "T= np.linspace(0, 100, 100)\n",
        "sol = odeint(rhs,StateVars,T,args=params)"
      ],
      "execution_count": null,
      "outputs": [
        {
          "output_type": "stream",
          "text": [
            "/usr/local/lib/python3.7/dist-packages/ipykernel_launcher.py:71: RuntimeWarning: divide by zero encountered in double_scalars\n",
            "/usr/local/lib/python3.7/dist-packages/scipy/integrate/odepack.py:248: ODEintWarning: Excess work done on this call (perhaps wrong Dfun type). Run with full_output = 1 to get quantitative information.\n",
            "  warnings.warn(warning_msg, ODEintWarning)\n"
          ],
          "name": "stderr"
        }
      ]
    },
    {
      "cell_type": "code",
      "metadata": {
        "id": "7Zc0tIHE2nrb"
      },
      "source": [
        "params = np.array(list(params))\n",
        "paramserr  = params * 1.1"
      ],
      "execution_count": null,
      "outputs": []
    },
    {
      "cell_type": "code",
      "metadata": {
        "id": "EqWkx8__25aZ"
      },
      "source": [
        "import itertools\n",
        "combinations = []\n",
        "count = 0\n",
        "for xs in itertools.product([params[0],paramserr[0] ], [params[1],paramserr[1]], [params[2],paramserr[2]], [params[3],paramserr[3] ], [params[4], paramserr[4]],\n",
        "                            [params[5],paramserr[5] ], [params[6],paramserr[6] ], [params[7],paramserr[7] ], [params[8],paramserr[8] ], [params[9], paramserr[9]],\n",
        "                            [params[10],paramserr[10] ], [params[11],paramserr[11] ], [params[12],paramserr[12] ], [params[13],paramserr[13]], [params[14], paramserr[14]],\n",
        "                            [params[15],paramserr[15] ], [params[16],paramserr[16] ], [params[17],paramserr[17] ], [params[18],paramserr[18] ], [params[19], paramserr[19]],\n",
        "                            [params[20],paramserr[20] ], [params[21],paramserr[21] ], [params[22],paramserr[22]]):\n",
        "  combinations.append(xs)\n",
        "  count += 1\n",
        "  if count == 1000:\n",
        "    break"
      ],
      "execution_count": null,
      "outputs": []
    },
    {
      "cell_type": "code",
      "metadata": {
        "id": "sxSPGSlR29VC"
      },
      "source": [
        "required_statevariables_0 = list()\n",
        "required_statevariables_1 = list()\n",
        "from tqdm import tqdm\n",
        "for combination in tqdm(combinations):\n",
        "  T= np.linspace(0, 100, 100)\n",
        "  StateVars=np.array([0, 0, 0.01, 0.5, 0, 0.5, 75])\n",
        "  sol = odeint(rhs,StateVars,T,args=tuple(combination))\n",
        "  required_statevariables_0.append(sol[50])\n",
        "  required_statevariables_1.append(sol[-1])"
      ],
      "execution_count": null,
      "outputs": []
    },
    {
      "cell_type": "code",
      "metadata": {
        "id": "IMBC4KBM5Ik_"
      },
      "source": [
        "np.save(\"statevariableat0\",  required_statevariables_0)\n",
        "np.save(\"statevariableat_1\",  required_statevariables_1)"
      ],
      "execution_count": null,
      "outputs": []
    },
    {
      "cell_type": "code",
      "metadata": {
        "id": "xHdEa-422mqv"
      },
      "source": [
        "from sympy import *\n",
        "init_printing(use_unicode=True)\n",
        "from sympy.matrices import Matrix\n",
        "S_xl,S_vt,S_at,S_wt, theta_vr,theta_vd, theta_vo, theta_vs, theta_vq, theta_ps, theta_a, theta_pr,theta_pm, theta_tr, theta_td, theta_t0, theta_alpha, theta_el, theta_k, theta_sr,theta_sm, theta_rue, theta_m, theta_gx, theta_gb, theta_ts, W_at, W_pt1,W_pt2, S_lt, W_st, S_yt, S_gt, W_xt, W_nt, W_ht, W_wt, k_i, k_m, k_e, W_rt, S_bt = symbols(\"S_xl,S_vt,S_at,S_wt, theta_vr,theta_vd, theta_vo, theta_vs, theta_vq, theta_ps, theta_a, theta_pr,theta_pm, theta_tr, theta_td, theta_t0, theta_alpha, theta_el, theta_k, theta_sr,theta_sm, theta_rue, theta_m, theta_gx, theta_gb, theta_ts, W_at, W_pt1,W_pt2, S_lt, W_st, S_yt, S_gt, W_xt, W_nt, W_ht, W_wt, k_i, k_m, k_e, W_rt, S_bt\")\n",
        "\n"
      ],
      "execution_count": null,
      "outputs": []
    },
    {
      "cell_type": "code",
      "metadata": {
        "id": "f7N1lBNt1au4"
      },
      "source": [
        "dSvt_dt = (1 + exp(-1 * theta_vr * theta_vd))/(exp(-1 * theta_vr * (W_at - theta_vo + theta_vd) + exp(theta_vr) * (W_at - theta_vo) - 1)+1 )\n",
        "f_vt = 1-theta_vs*(1- 1/(1+exp(-10/theta_vq*(S_vt- theta_vq/2))))\n",
        "f_pt = 1 - (1 - theta_ps * (1- (1 / (exp(-100 * (( S_at/theta_a)-1) ))) )) * (1/(1 + exp(-theta_pr*(W_pt1 - theta_pm))))\n",
        "d_tt = (1 + exp(-1 * theta_tr * theta_td)) / (1 + exp(-1 * theta_tr *(W_at - theta_t0 + theta_td) + exp((theta_tr * (W_at - theta_t0)) -1)))\n",
        "dSat_dt = f_vt * f_pt * d_tt\n",
        "f_wt = 1 / (1 + exp((-ln(99)/0.175)*(S_wt - 0.175)))\n",
        "dSlt_dt = S_lt * (d_tt*theta_alpha*f_wt*(1 - (1/(1+exp(-1* 100 * ((S_at/theta_el) -1)))))* 1/(exp(-100 *(exp(-theta_k * S_lt)-1/20))+1) - (1/(1+exp(-1 * theta_sr * (W_at/theta_sm - 1) ))))\n",
        "dSbt_dt = theta_rue * W_st * (1-exp(-1*theta_k * S_lt)) * f_wt* d_tt * (1- (1/ (1+exp(-100 * (S_at/theta_m -1)))))*(1-1/(1+exp(-100*((1000 * S_yt) /(theta_gx *S_gt)-1))))\n",
        "dSgt_dt = dSbt_dt * theta_gb * (1 / (1 + exp(-100 * (S_at/theta_a-1)))) * (1 - (1/(1+exp(-1 * 100 * (S_at/theta_ts -1)))))\n",
        "dSyt_dt = dSbt_dt * (1/ (1+exp(-100* (S_at/theta_a -1))))\n",
        "D_t = 4098 * 0.6108 * exp((17.27 * W_at)/(W_at+237.3))/(W_at + 237.3)**2\n",
        "e_st = 0.6108 * (exp(17.27 * W_xt/(W_xt + 237.3)) + exp(17.27 * W_nt/(W_nt +237.3))) /2 \n",
        "e_at = e_st * W_ht * 0.01\n",
        "gamma_t = 0.665 * 10**(-3) * W_pt2\n",
        "e0_t = (0.408 * D_t * W_st + gamma_t * 900* W_wt* (e_st - e_at)/(W_at + 273))/(D_t + gamma_t * (1+ 0.34 * W_wt))  \n",
        "k_ct = k_i + (1-exp(-1 * theta_k * S_lt)) * (k_m - k_i + (k_i-k_e)/(exp(-100 * (S_at/theta_alpha - 1) ) +1) ) - (k_i - k_e) /(exp(-100 * (S_at/theta_alpha -1)) +1)\n",
        "e_ct = e0_t * k_ct\n",
        "dSwt_dt = W_rt/(exp(-100 * (S_wt/S_xl + 1) ) + 1) - e_ct * f_wt\n",
        "F = Matrix([dSvt_dt,dSat_dt,dSlt_dt,dSbt_dt,dSgt_dt,dSyt_dt,dSwt_dt ])\n",
        "\n",
        "sample_arr = []\n",
        "for v, a, l, b,g,y,w, t in zip(sol[:, 0], sol[:, 0], sol[:, 0], sol[:, 0],sol[:, 0], sol[:, 0],sol[:, 0], T ):\n",
        "  a_n = F.jacobian([S_xl, theta_vr, theta_vd, theta_vo, \n",
        "              theta_vs, theta_vq, theta_ps, theta_a,\n",
        "              theta_pr, theta_pm, theta_tr, theta_td, \n",
        "              theta_t0, theta_alpha, theta_el, theta_k,\n",
        "              theta_sr, theta_sm, theta_rue, theta_m,\n",
        "              theta_gx, theta_gb, theta_ts]).subs([(S_xl,150), (theta_vr,-0.28), (theta_vd,5), (theta_vo,4), \n",
        "              (theta_vs,1), (theta_vq,42), (theta_ps,0.8), (theta_a,36),\n",
        "              (theta_pr,0.44), (theta_pm,10.67), (theta_tr,0.14), (theta_td,-7.6), \n",
        "              (theta_t0,24), (theta_alpha,0.30), (theta_el,18), (theta_k,0.75),\n",
        "              (theta_sr,10), (theta_sm,35), (theta_rue,1.15), (theta_m,60),\n",
        "              (theta_gx,45), (theta_gb,20), (theta_ts,15), (S_vt, v), (S_at, a), (S_lt,l ), (S_bt, b), (S_gt, g), (S_yt, y), (S_wt, w), \n",
        "              (W_at, Wat(t)), (W_pt1, Wpt1(t)), (W_pt2, Wpt2(t)), (W_st, Wst(t)), (W_xt, Wxt(t)),\n",
        "              (W_nt, Wnt(t)),(W_ht, Wht(t)), (W_wt, Wwt(t)), (W_rt, Wrt(t)), \n",
        "              (k_m,0.5 ), (k_e, 0.5), (k_i, 0.5)])\n",
        "  sample_arr.append(a_n)\n",
        "  break\n"
      ],
      "execution_count": null,
      "outputs": []
    },
    {
      "cell_type": "code",
      "metadata": {
        "id": "koo_hzjX2X-z"
      },
      "source": [
        "# determinant = []\n",
        "# sample_arr = np.array(sample_arr)\n",
        "# for arr in sample_arr:\n",
        "#   tempdash = np.array(arr, dtype=float)\n",
        "#   temparr = np.matmul(tempdash, tempdash.T)\n",
        "#   tempdet = np.linalg.det(temparr)\n",
        "#   determinant.append(tempdet)"
      ],
      "execution_count": null,
      "outputs": []
    },
    {
      "cell_type": "code",
      "metadata": {
        "colab": {
          "base_uri": "https://localhost:8080/",
          "height": 37
        },
        "id": "d8x1XLLoS-Vo",
        "outputId": "f9ceee8c-ff6f-47dc-94ad-20eca6347d5a"
      },
      "source": [
        "from sympy.tensor.array import derive_by_array\n",
        "J = derive_by_array(F, (S_xl, theta_vr, theta_vd, theta_vo, \n",
        "              theta_vs, theta_vq, theta_ps, theta_a,\n",
        "              theta_pr, theta_pm, theta_tr, theta_td, \n",
        "              theta_t0, theta_alpha, theta_el, theta_k,\n",
        "              theta_sr, theta_sm, theta_rue, theta_m,\n",
        "              theta_gx, theta_gb, theta_ts))              "
      ],
      "execution_count": null,
      "outputs": [
        {
          "output_type": "execute_result",
          "data": {
            "image/png": "[encoded data removed]",
            "text/latex": "$\\displaystyle \\left( 23, \\  7, \\  1\\right)$",
            "text/plain": [
              "(23, 7, 1)"
            ]
          },
          "metadata": {
            "tags": []
          },
          "execution_count": 32
        }
      ]
    },
    {
      "cell_type": "code",
      "metadata": {
        "id": "OME_bP24Tltt"
      },
      "source": [
        "derive_by_array(derive_by_array(F, (S_xl, theta_vr, theta_vd, theta_vo, \n",
        "              theta_vs, theta_vq, theta_ps, theta_a,\n",
        "              theta_pr, theta_pm, theta_tr, theta_td, \n",
        "              theta_t0, theta_alpha, theta_el, theta_k,\n",
        "              theta_sr, theta_sm, theta_rue, theta_m,\n",
        "              theta_gx, theta_gb, theta_ts)), (S_xl, theta_vr, theta_vd, theta_vo, \n",
        "              theta_vs, theta_vq, theta_ps, theta_a,\n",
        "              theta_pr, theta_pm, theta_tr, theta_td, \n",
        "              theta_t0, theta_alpha, theta_el, theta_k,\n",
        "              theta_sr, theta_sm, theta_rue, theta_m,\n",
        "              theta_gx, theta_gb, theta_ts))"
      ],
      "execution_count": null,
      "outputs": []
    },
    {
      "cell_type": "code",
      "metadata": {
        "id": "N0JMILPmHtKj",
        "colab": {
          "base_uri": "https://localhost:8080/"
        },
        "outputId": "a93d0d9e-a857-48e2-b07d-162f7f440156"
      },
      "source": [
        "from sympy import *\n",
        "V, I = symbols(\"V I\", cls=Function)\n",
        "RC, t, C, Vs, L, R1, V0, I0 = symbols(\"RC t C Vs L R1 V0 I0\")\n",
        "system = [Eq(V(t).diff(t), -1/RC*V(t) + I(t)/C), Eq(I(t).diff(t), -R1/L*I(t) - 1/L*V(t) + Vs/L)]\n",
        "ics = {V(0): V0, I(0): I0}\n",
        "dsolve(system, [V(t), I(t)], ics=ics)"
      ],
      "execution_count": 1,
      "outputs": [
        {
          "output_type": "execute_result",
          "data": {
            "text/plain": [
              "[Eq(V(t), -4*L*RC**3*Vs*Piecewise((2*C*L*RC*exp(t*(C*L**2*RC + C*L*R1*RC**2 - L*RC*sqrt(C**2*L**2 - 2*C**2*L*R1*RC + C**2*R1**2*RC**2 - 4*C*L*RC**2))/(2*C*L**2*RC**2))/(C*L + C*R1*RC - sqrt(C*(C*L**2 - 2*C*L*R1*RC + C*R1**2*RC**2 - 4*L*RC**2))), Ne(C*L + C*R1*RC - sqrt(C*(C*L**2 - 2*C*L*R1*RC + C*R1**2*RC**2 - 4*L*RC**2)), 0)), (t, True))*exp(-t*(C*L**2*RC + C*L*R1*RC**2 - L*RC*sqrt(C**2*L**2 - 2*C**2*L*R1*RC + C**2*R1**2*RC**2 - 4*C*L*RC**2))/(2*C*L**2*RC**2))/((C*(L - R1*RC) + sqrt(C*(C*(L**2 - 2*L*R1*RC + R1**2*RC**2) - 4*L*RC**2)))*(C*(L**2 - 2*L*R1*RC + R1**2*RC**2) - L*(4*RC**2 + sqrt(C*(C*(L**2 - 2*L*R1*RC + R1**2*RC**2) - 4*L*RC**2))) + R1*RC*sqrt(C*(C*(L**2 - 2*L*R1*RC + R1**2*RC**2) - 4*L*RC**2)))) + 2*RC*Vs*(C*(L**2 - 2*L*R1*RC + R1**2*RC**2) - L*(2*RC**2 + sqrt(C*(C*(L**2 - 2*L*R1*RC + R1**2*RC**2) - 4*L*RC**2))) + R1*RC*sqrt(C*(C*(L**2 - 2*L*R1*RC + R1**2*RC**2) - 4*L*RC**2)))*Piecewise((2*C*L*RC*exp(t*(C*L**2*RC + C*L*R1*RC**2 + L*RC*sqrt(C**2*L**2 - 2*C**2*L*R1*RC + C**2*R1**2*RC**2 - 4*C*L*RC**2))/(2*C*L**2*RC**2))/(C*L + C*R1*RC + sqrt(C*(C*L**2 - 2*C*L*R1*RC + C*R1**2*RC**2 - 4*L*RC**2))), Ne(C*L + C*R1*RC + sqrt(C*(C*L**2 - 2*C*L*R1*RC + C*R1**2*RC**2 - 4*L*RC**2)), 0)), (t, True))*exp(-t*(C*L**2*RC + C*L*R1*RC**2 + L*RC*sqrt(C**2*L**2 - 2*C**2*L*R1*RC + C**2*R1**2*RC**2 - 4*C*L*RC**2))/(2*C*L**2*RC**2))/((C*(L - R1*RC) - sqrt(C*(C*(L**2 - 2*L*R1*RC + R1**2*RC**2) - 4*L*RC**2)))*(C*(L**2 - 2*L*R1*RC + R1**2*RC**2) - L*(4*RC**2 + sqrt(C*(C*(L**2 - 2*L*R1*RC + R1**2*RC**2) - 4*L*RC**2))) + R1*RC*sqrt(C*(C*(L**2 - 2*L*R1*RC + R1**2*RC**2) - 4*L*RC**2)))) - (-2*I0*L*RC*(C**2*(L**4 - 4*L**3*R1*RC + 6*L**2*R1**2*RC**2 - 4*L*R1**3*RC**3 + R1**4*RC**4) - C*(4*L**3*RC**2 + L**3*sqrt(C*(C*(L**2 - 2*L*R1*RC + R1**2*RC**2) - 4*L*RC**2)) - 8*L**2*R1*RC**3 - 3*L**2*R1*RC*sqrt(C*(C*(L**2 - 2*L*R1*RC + R1**2*RC**2) - 4*L*RC**2)) + 4*L*R1**2*RC**4 + 3*L*R1**2*RC**2*sqrt(C*(C*(L**2 - 2*L*R1*RC + R1**2*RC**2) - 4*L*RC**2)) - R1**3*RC**3*sqrt(C*(C*(L**2 - 2*L*R1*RC + R1**2*RC**2) - 4*L*RC**2))) + 2*L**2*RC**2*(RC**2 + sqrt(C*(C*(L**2 - 2*L*R1*RC + R1**2*RC**2) - 4*L*RC**2))) - 2*L*R1*RC**3*sqrt(C*(C*(L**2 - 2*L*R1*RC + R1**2*RC**2) - 4*L*RC**2)))/(C**3*(L - R1*RC)*(L**4 - 4*L**3*R1*RC + 6*L**2*R1**2*RC**2 - 4*L*R1**3*RC**3 + R1**4*RC**4) - C**2*(sqrt(C*(C*(L**2 - 2*L*R1*RC + R1**2*RC**2) - 4*L*RC**2))*(L**4 - 4*L**3*R1*RC + 6*L**2*R1**2*RC**2 - 4*L*R1**3*RC**3 + R1**4*RC**4) + (L - R1*RC)*(L**3*(5*RC**2 + sqrt(C*(C*(L**2 - 2*L*R1*RC + R1**2*RC**2) - 4*L*RC**2))) - L**2*R1*RC*(10*RC**2 + 3*sqrt(C*(C*(L**2 - 2*L*R1*RC + R1**2*RC**2) - 4*L*RC**2))) + L*R1**2*RC**2*(5*RC**2 + 3*sqrt(C*(C*(L**2 - 2*L*R1*RC + R1**2*RC**2) - 4*L*RC**2))) - R1**3*RC**3*sqrt(C*(C*(L**2 - 2*L*R1*RC + R1**2*RC**2) - 4*L*RC**2)))) + C*(L**2*RC**2*(L - R1*RC)*(4*RC**2 + 3*sqrt(C*(C*(L**2 - 2*L*R1*RC + R1**2*RC**2) - 4*L*RC**2))) - 3*L*R1*RC**3*sqrt(C*(C*(L**2 - 2*L*R1*RC + R1**2*RC**2) - 4*L*RC**2))*(L - R1*RC) + 3*L*R1*RC**3*(C*(L**2 - 2*L*R1*RC + R1**2*RC**2) - 4*L*RC**2) + sqrt(C*(C*(L**2 - 2*L*R1*RC + R1**2*RC**2) - 4*L*RC**2))*(L**3*(5*RC**2 + sqrt(C*(C*(L**2 - 2*L*R1*RC + R1**2*RC**2) - 4*L*RC**2))) - L**2*R1*RC*(10*RC**2 + 3*sqrt(C*(C*(L**2 - 2*L*R1*RC + R1**2*RC**2) - 4*L*RC**2))) + L*R1**2*RC**2*(5*RC**2 + 3*sqrt(C*(C*(L**2 - 2*L*R1*RC + R1**2*RC**2) - 4*L*RC**2))) - R1**3*RC**3*sqrt(C*(C*(L**2 - 2*L*R1*RC + R1**2*RC**2) - 4*L*RC**2)))) - L**2*RC**2*sqrt(C*(C*(L**2 - 2*L*R1*RC + R1**2*RC**2) - 4*L*RC**2))*(4*RC**2 + 3*sqrt(C*(C*(L**2 - 2*L*R1*RC + R1**2*RC**2) - 4*L*RC**2)))) + 2*L*RC**2*V0*(C**2*(L**3 - 3*L**2*R1*RC + 3*L*R1**2*RC**2 - R1**3*RC**3) - C*(3*L**2*RC**2 + L**2*sqrt(C*(C*(L**2 - 2*L*R1*RC + R1**2*RC**2) - 4*L*RC**2)) - 3*L*R1*RC**3 - 2*L*R1*RC*sqrt(C*(C*(L**2 - 2*L*R1*RC + R1**2*RC**2) - 4*L*RC**2)) + R1**2*RC**2*sqrt(C*(C*(L**2 - 2*L*R1*RC + R1**2*RC**2) - 4*L*RC**2))) + L*RC**2*sqrt(C*(C*(L**2 - 2*L*R1*RC + R1**2*RC**2) - 4*L*RC**2)))/(C**3*(L - R1*RC)*(L**4 - 4*L**3*R1*RC + 6*L**2*R1**2*RC**2 - 4*L*R1**3*RC**3 + R1**4*RC**4) - C**2*(sqrt(C*(C*(L**2 - 2*L*R1*RC + R1**2*RC**2) - 4*L*RC**2))*(L**4 - 4*L**3*R1*RC + 6*L**2*R1**2*RC**2 - 4*L*R1**3*RC**3 + R1**4*RC**4) + (L - R1*RC)*(L**3*(5*RC**2 + sqrt(C*(C*(L**2 - 2*L*R1*RC + R1**2*RC**2) - 4*L*RC**2))) - L**2*R1*RC*(10*RC**2 + 3*sqrt(C*(C*(L**2 - 2*L*R1*RC + R1**2*RC**2) - 4*L*RC**2))) + L*R1**2*RC**2*(5*RC**2 + 3*sqrt(C*(C*(L**2 - 2*L*R1*RC + R1**2*RC**2) - 4*L*RC**2))) - R1**3*RC**3*sqrt(C*(C*(L**2 - 2*L*R1*RC + R1**2*RC**2) - 4*L*RC**2)))) + C*(L**2*RC**2*(L - R1*RC)*(4*RC**2 + 3*sqrt(C*(C*(L**2 - 2*L*R1*RC + R1**2*RC**2) - 4*L*RC**2))) - 3*L*R1*RC**3*sqrt(C*(C*(L**2 - 2*L*R1*RC + R1**2*RC**2) - 4*L*RC**2))*(L - R1*RC) + 3*L*R1*RC**3*(C*(L**2 - 2*L*R1*RC + R1**2*RC**2) - 4*L*RC**2) + sqrt(C*(C*(L**2 - 2*L*R1*RC + R1**2*RC**2) - 4*L*RC**2))*(L**3*(5*RC**2 + sqrt(C*(C*(L**2 - 2*L*R1*RC + R1**2*RC**2) - 4*L*RC**2))) - L**2*R1*RC*(10*RC**2 + 3*sqrt(C*(C*(L**2 - 2*L*R1*RC + R1**2*RC**2) - 4*L*RC**2))) + L*R1**2*RC**2*(5*RC**2 + 3*sqrt(C*(C*(L**2 - 2*L*R1*RC + R1**2*RC**2) - 4*L*RC**2))) - R1**3*RC**3*sqrt(C*(C*(L**2 - 2*L*R1*RC + R1**2*RC**2) - 4*L*RC**2)))) - L**2*RC**2*sqrt(C*(C*(L**2 - 2*L*R1*RC + R1**2*RC**2) - 4*L*RC**2))*(4*RC**2 + 3*sqrt(C*(C*(L**2 - 2*L*R1*RC + R1**2*RC**2) - 4*L*RC**2)))) + 2*RC*Vs*(C**2*(L**4 - 4*L**3*R1*RC + 6*L**2*R1**2*RC**2 - 4*L*R1**3*RC**3 + R1**4*RC**4) - C*(L**3*(4*RC**2 + sqrt(C*(C*(L**2 - 2*L*R1*RC + R1**2*RC**2) - 4*L*RC**2))) - L**2*R1*RC*(8*RC**2 + 3*sqrt(C*(C*(L**2 - 2*L*R1*RC + R1**2*RC**2) - 4*L*RC**2))) + L*R1**2*RC**2*(4*RC**2 + 3*sqrt(C*(C*(L**2 - 2*L*R1*RC + R1**2*RC**2) - 4*L*RC**2))) - R1**3*RC**3*sqrt(C*(C*(L**2 - 2*L*R1*RC + R1**2*RC**2) - 4*L*RC**2))) + 2*L**2*RC**2*(RC**2 + sqrt(C*(C*(L**2 - 2*L*R1*RC + R1**2*RC**2) - 4*L*RC**2))) - 2*L*R1*RC**3*sqrt(C*(C*(L**2 - 2*L*R1*RC + R1**2*RC**2) - 4*L*RC**2)))*Piecewise((2*C*L*RC/(C*L + C*R1*RC + sqrt(C*(C*L**2 - 2*C*L*R1*RC + C*R1**2*RC**2 - 4*L*RC**2))), Ne(C, -RC/R1)), (2*L*RC**2/(L*RC + R1*RC**2 - R1*sqrt(RC**2*(L**2/R1**2 + 2*L*RC/R1 + RC**2))), True))/(C**3*(L - R1*RC)*(L**4 - 4*L**3*R1*RC + 6*L**2*R1**2*RC**2 - 4*L*R1**3*RC**3 + R1**4*RC**4) - C**2*(sqrt(C*(C*(L**2 - 2*L*R1*RC + R1**2*RC**2) - 4*L*RC**2))*(L**4 - 4*L**3*R1*RC + 6*L**2*R1**2*RC**2 - 4*L*R1**3*RC**3 + R1**4*RC**4) + (L - R1*RC)*(L**3*(5*RC**2 + sqrt(C*(C*(L**2 - 2*L*R1*RC + R1**2*RC**2) - 4*L*RC**2))) - L**2*R1*RC*(10*RC**2 + 3*sqrt(C*(C*(L**2 - 2*L*R1*RC + R1**2*RC**2) - 4*L*RC**2))) + L*R1**2*RC**2*(5*RC**2 + 3*sqrt(C*(C*(L**2 - 2*L*R1*RC + R1**2*RC**2) - 4*L*RC**2))) - R1**3*RC**3*sqrt(C*(C*(L**2 - 2*L*R1*RC + R1**2*RC**2) - 4*L*RC**2)))) + C*(L**2*RC**2*(L - R1*RC)*(4*RC**2 + 3*sqrt(C*(C*(L**2 - 2*L*R1*RC + R1**2*RC**2) - 4*L*RC**2))) - 3*L*R1*RC**3*sqrt(C*(C*(L**2 - 2*L*R1*RC + R1**2*RC**2) - 4*L*RC**2))*(L - R1*RC) + 3*L*R1*RC**3*(C*(L**2 - 2*L*R1*RC + R1**2*RC**2) - 4*L*RC**2) + sqrt(C*(C*(L**2 - 2*L*R1*RC + R1**2*RC**2) - 4*L*RC**2))*(L**3*(5*RC**2 + sqrt(C*(C*(L**2 - 2*L*R1*RC + R1**2*RC**2) - 4*L*RC**2))) - L**2*R1*RC*(10*RC**2 + 3*sqrt(C*(C*(L**2 - 2*L*R1*RC + R1**2*RC**2) - 4*L*RC**2))) + L*R1**2*RC**2*(5*RC**2 + 3*sqrt(C*(C*(L**2 - 2*L*R1*RC + R1**2*RC**2) - 4*L*RC**2))) - R1**3*RC**3*sqrt(C*(C*(L**2 - 2*L*R1*RC + R1**2*RC**2) - 4*L*RC**2)))) - L**2*RC**2*sqrt(C*(C*(L**2 - 2*L*R1*RC + R1**2*RC**2) - 4*L*RC**2))*(4*RC**2 + 3*sqrt(C*(C*(L**2 - 2*L*R1*RC + R1**2*RC**2) - 4*L*RC**2)))))*exp(-t*(C*L**2*RC + C*L*R1*RC**2 + L*RC*sqrt(C**2*L**2 - 2*C**2*L*R1*RC + C**2*R1**2*RC**2 - 4*C*L*RC**2))/(2*C*L**2*RC**2)) + (-2*I0*L**2*RC**3*(C*(L**2 - 2*L*R1*RC + R1**2*RC**2) - L*(4*RC**2 + sqrt(C*(C*(L**2 - 2*L*R1*RC + R1**2*RC**2) - 4*L*RC**2))) + R1*RC*sqrt(C*(C*(L**2 - 2*L*R1*RC + R1**2*RC**2) - 4*L*RC**2)))/(C**3*(L - R1*RC)*(L**4 - 4*L**3*R1*RC + 6*L**2*R1**2*RC**2 - 4*L*R1**3*RC**3 + R1**4*RC**4) + C**2*(sqrt(C*(C*(L**2 - 2*L*R1*RC + R1**2*RC**2) - 4*L*RC**2))*(L**4 - 4*L**3*R1*RC + 6*L**2*R1**2*RC**2 - 4*L*R1**3*RC**3 + R1**4*RC**4) - (L - R1*RC)*(L**3*(6*RC**2 + sqrt(C*(C*(L**2 - 2*L*R1*RC + R1**2*RC**2) - 4*L*RC**2))) - 3*L**2*R1*RC*(4*RC**2 + sqrt(C*(C*(L**2 - 2*L*R1*RC + R1**2*RC**2) - 4*L*RC**2))) + 3*L*R1**2*RC**2*(2*RC**2 + sqrt(C*(C*(L**2 - 2*L*R1*RC + R1**2*RC**2) - 4*L*RC**2))) - R1**3*RC**3*sqrt(C*(C*(L**2 - 2*L*R1*RC + R1**2*RC**2) - 4*L*RC**2)))) - C*(-4*L**2*RC**2*(L - R1*RC)*(2*RC**2 + sqrt(C*(C*(L**2 - 2*L*R1*RC + R1**2*RC**2) - 4*L*RC**2))) + 4*L*R1*RC**3*sqrt(C*(C*(L**2 - 2*L*R1*RC + R1**2*RC**2) - 4*L*RC**2))*(L - R1*RC) + 4*L*R1*RC**3*(C*(L**2 - 2*L*R1*RC + R1**2*RC**2) - 4*L*RC**2) + sqrt(C*(C*(L**2 - 2*L*R1*RC + R1**2*RC**2) - 4*L*RC**2))*(L**3*(6*RC**2 + sqrt(C*(C*(L**2 - 2*L*R1*RC + R1**2*RC**2) - 4*L*RC**2))) - 3*L**2*R1*RC*(4*RC**2 + sqrt(C*(C*(L**2 - 2*L*R1*RC + R1**2*RC**2) - 4*L*RC**2))) + 3*L*R1**2*RC**2*(2*RC**2 + sqrt(C*(C*(L**2 - 2*L*R1*RC + R1**2*RC**2) - 4*L*RC**2))) - R1**3*RC**3*sqrt(C*(C*(L**2 - 2*L*R1*RC + R1**2*RC**2) - 4*L*RC**2)))) + 4*L**2*RC**2*sqrt(C*(C*(L**2 - 2*L*R1*RC + R1**2*RC**2) - 4*L*RC**2))*(2*RC**2 + sqrt(C*(C*(L**2 - 2*L*R1*RC + R1**2*RC**2) - 4*L*RC**2)))) + 2*L*RC**3*Vs*(C*(L**2 - 2*L*R1*RC + R1**2*RC**2) - L*(4*RC**2 + sqrt(C*(C*(L**2 - 2*L*R1*RC + R1**2*RC**2) - 4*L*RC**2))) + R1*RC*sqrt(C*(C*(L**2 - 2*L*R1*RC + R1**2*RC**2) - 4*L*RC**2)))*Piecewise((2*C*L*RC/(C*L + C*R1*RC - sqrt(C*(C*L**2 - 2*C*L*R1*RC + C*R1**2*RC**2 - 4*L*RC**2))), Ne(C, -RC/R1)), (2*L*RC**2/(L*RC + R1*RC**2 + R1*sqrt(RC**2*(L**2/R1**2 + 2*L*RC/R1 + RC**2))), True))/(C**3*(L - R1*RC)*(L**4 - 4*L**3*R1*RC + 6*L**2*R1**2*RC**2 - 4*L*R1**3*RC**3 + R1**4*RC**4) + C**2*(sqrt(C*(C*(L**2 - 2*L*R1*RC + R1**2*RC**2) - 4*L*RC**2))*(L**4 - 4*L**3*R1*RC + 6*L**2*R1**2*RC**2 - 4*L*R1**3*RC**3 + R1**4*RC**4) - (L - R1*RC)*(L**3*(6*RC**2 + sqrt(C*(C*(L**2 - 2*L*R1*RC + R1**2*RC**2) - 4*L*RC**2))) - 3*L**2*R1*RC*(4*RC**2 + sqrt(C*(C*(L**2 - 2*L*R1*RC + R1**2*RC**2) - 4*L*RC**2))) + 3*L*R1**2*RC**2*(2*RC**2 + sqrt(C*(C*(L**2 - 2*L*R1*RC + R1**2*RC**2) - 4*L*RC**2))) - R1**3*RC**3*sqrt(C*(C*(L**2 - 2*L*R1*RC + R1**2*RC**2) - 4*L*RC**2)))) - C*(-4*L**2*RC**2*(L - R1*RC)*(2*RC**2 + sqrt(C*(C*(L**2 - 2*L*R1*RC + R1**2*RC**2) - 4*L*RC**2))) + 4*L*R1*RC**3*sqrt(C*(C*(L**2 - 2*L*R1*RC + R1**2*RC**2) - 4*L*RC**2))*(L - R1*RC) + 4*L*R1*RC**3*(C*(L**2 - 2*L*R1*RC + R1**2*RC**2) - 4*L*RC**2) + sqrt(C*(C*(L**2 - 2*L*R1*RC + R1**2*RC**2) - 4*L*RC**2))*(L**3*(6*RC**2 + sqrt(C*(C*(L**2 - 2*L*R1*RC + R1**2*RC**2) - 4*L*RC**2))) - 3*L**2*R1*RC*(4*RC**2 + sqrt(C*(C*(L**2 - 2*L*R1*RC + R1**2*RC**2) - 4*L*RC**2))) + 3*L*R1**2*RC**2*(2*RC**2 + sqrt(C*(C*(L**2 - 2*L*R1*RC + R1**2*RC**2) - 4*L*RC**2))) - R1**3*RC**3*sqrt(C*(C*(L**2 - 2*L*R1*RC + R1**2*RC**2) - 4*L*RC**2)))) + 4*L**2*RC**2*sqrt(C*(C*(L**2 - 2*L*R1*RC + R1**2*RC**2) - 4*L*RC**2))*(2*RC**2 + sqrt(C*(C*(L**2 - 2*L*R1*RC + R1**2*RC**2) - 4*L*RC**2)))) + 2*L*RC**2*V0*(C**2*(L**3 - 3*L**2*R1*RC + 3*L*R1**2*RC**2 - R1**3*RC**3) - C*(4*L**2*RC**2 + L**2*sqrt(C*(C*(L**2 - 2*L*R1*RC + R1**2*RC**2) - 4*L*RC**2)) - 4*L*R1*RC**3 - 2*L*R1*RC*sqrt(C*(C*(L**2 - 2*L*R1*RC + R1**2*RC**2) - 4*L*RC**2)) + R1**2*RC**2*sqrt(C*(C*(L**2 - 2*L*R1*RC + R1**2*RC**2) - 4*L*RC**2))) + 2*L*RC**2*sqrt(C*(C*(L**2 - 2*L*R1*RC + R1**2*RC**2) - 4*L*RC**2)))/(C**3*(L - R1*RC)*(L**4 - 4*L**3*R1*RC + 6*L**2*R1**2*RC**2 - 4*L*R1**3*RC**3 + R1**4*RC**4) + C**2*(sqrt(C*(C*(L**2 - 2*L*R1*RC + R1**2*RC**2) - 4*L*RC**2))*(L**4 - 4*L**3*R1*RC + 6*L**2*R1**2*RC**2 - 4*L*R1**3*RC**3 + R1**4*RC**4) - (L - R1*RC)*(L**3*(6*RC**2 + sqrt(C*(C*(L**2 - 2*L*R1*RC + R1**2*RC**2) - 4*L*RC**2))) - 3*L**2*R1*RC*(4*RC**2 + sqrt(C*(C*(L**2 - 2*L*R1*RC + R1**2*RC**2) - 4*L*RC**2))) + 3*L*R1**2*RC**2*(2*RC**2 + sqrt(C*(C*(L**2 - 2*L*R1*RC + R1**2*RC**2) - 4*L*RC**2))) - R1**3*RC**3*sqrt(C*(C*(L**2 - 2*L*R1*RC + R1**2*RC**2) - 4*L*RC**2)))) - C*(-4*L**2*RC**2*(L - R1*RC)*(2*RC**2 + sqrt(C*(C*(L**2 - 2*L*R1*RC + R1**2*RC**2) - 4*L*RC**2))) + 4*L*R1*RC**3*sqrt(C*(C*(L**2 - 2*L*R1*RC + R1**2*RC**2) - 4*L*RC**2))*(L - R1*RC) + 4*L*R1*RC**3*(C*(L**2 - 2*L*R1*RC + R1**2*RC**2) - 4*L*RC**2) + sqrt(C*(C*(L**2 - 2*L*R1*RC + R1**2*RC**2) - 4*L*RC**2))*(L**3*(6*RC**2 + sqrt(C*(C*(L**2 - 2*L*R1*RC + R1**2*RC**2) - 4*L*RC**2))) - 3*L**2*R1*RC*(4*RC**2 + sqrt(C*(C*(L**2 - 2*L*R1*RC + R1**2*RC**2) - 4*L*RC**2))) + 3*L*R1**2*RC**2*(2*RC**2 + sqrt(C*(C*(L**2 - 2*L*R1*RC + R1**2*RC**2) - 4*L*RC**2))) - R1**3*RC**3*sqrt(C*(C*(L**2 - 2*L*R1*RC + R1**2*RC**2) - 4*L*RC**2)))) + 4*L**2*RC**2*sqrt(C*(C*(L**2 - 2*L*R1*RC + R1**2*RC**2) - 4*L*RC**2))*(2*RC**2 + sqrt(C*(C*(L**2 - 2*L*R1*RC + R1**2*RC**2) - 4*L*RC**2)))))*exp(-t*(C*L**2*RC + C*L*R1*RC**2 - L*RC*sqrt(C**2*L**2 - 2*C**2*L*R1*RC + C**2*R1**2*RC**2 - 4*C*L*RC**2))/(2*C*L**2*RC**2))),\n",
              " Eq(I(t), -2*RC**2*Vs*Piecewise((2*C*L*RC*exp(t*(C*L**2*RC + C*L*R1*RC**2 - L*RC*sqrt(C**2*L**2 - 2*C**2*L*R1*RC + C**2*R1**2*RC**2 - 4*C*L*RC**2))/(2*C*L**2*RC**2))/(C*L + C*R1*RC - sqrt(C*(C*L**2 - 2*C*L*R1*RC + C*R1**2*RC**2 - 4*L*RC**2))), Ne(C*L + C*R1*RC - sqrt(C*(C*L**2 - 2*C*L*R1*RC + C*R1**2*RC**2 - 4*L*RC**2)), 0)), (t, True))*exp(-t*(C*L**2*RC + C*L*R1*RC**2 - L*RC*sqrt(C**2*L**2 - 2*C**2*L*R1*RC + C**2*R1**2*RC**2 - 4*C*L*RC**2))/(2*C*L**2*RC**2))/(C*(L**2 - 2*L*R1*RC + R1**2*RC**2) - L*(4*RC**2 + sqrt(C*(C*(L**2 - 2*L*R1*RC + R1**2*RC**2) - 4*L*RC**2))) + R1*RC*sqrt(C*(C*(L**2 - 2*L*R1*RC + R1**2*RC**2) - 4*L*RC**2))) - (-I0*(C**2*(L**4 - 4*L**3*R1*RC + 6*L**2*R1**2*RC**2 - 4*L*R1**3*RC**3 + R1**4*RC**4) - C*(4*L**3*RC**2 + L**3*sqrt(C*(C*(L**2 - 2*L*R1*RC + R1**2*RC**2) - 4*L*RC**2)) - 8*L**2*R1*RC**3 - 3*L**2*R1*RC*sqrt(C*(C*(L**2 - 2*L*R1*RC + R1**2*RC**2) - 4*L*RC**2)) + 4*L*R1**2*RC**4 + 3*L*R1**2*RC**2*sqrt(C*(C*(L**2 - 2*L*R1*RC + R1**2*RC**2) - 4*L*RC**2)) - R1**3*RC**3*sqrt(C*(C*(L**2 - 2*L*R1*RC + R1**2*RC**2) - 4*L*RC**2))) + 2*L**2*RC**2*(RC**2 + sqrt(C*(C*(L**2 - 2*L*R1*RC + R1**2*RC**2) - 4*L*RC**2))) - 2*L*R1*RC**3*sqrt(C*(C*(L**2 - 2*L*R1*RC + R1**2*RC**2) - 4*L*RC**2)))/(C**2*(L**4 - 4*L**3*R1*RC + 6*L**2*R1**2*RC**2 - 4*L*R1**3*RC**3 + R1**4*RC**4) - C*(L**3*(5*RC**2 + sqrt(C*(C*(L**2 - 2*L*R1*RC + R1**2*RC**2) - 4*L*RC**2))) - L**2*R1*RC*(10*RC**2 + 3*sqrt(C*(C*(L**2 - 2*L*R1*RC + R1**2*RC**2) - 4*L*RC**2))) + L*R1**2*RC**2*(5*RC**2 + 3*sqrt(C*(C*(L**2 - 2*L*R1*RC + R1**2*RC**2) - 4*L*RC**2))) - R1**3*RC**3*sqrt(C*(C*(L**2 - 2*L*R1*RC + R1**2*RC**2) - 4*L*RC**2))) + L**2*RC**2*(4*RC**2 + 3*sqrt(C*(C*(L**2 - 2*L*R1*RC + R1**2*RC**2) - 4*L*RC**2))) - 3*L*R1*RC**3*sqrt(C*(C*(L**2 - 2*L*R1*RC + R1**2*RC**2) - 4*L*RC**2))) + RC*V0*(C**2*(L**3 - 3*L**2*R1*RC + 3*L*R1**2*RC**2 - R1**3*RC**3) - C*(3*L**2*RC**2 + L**2*sqrt(C*(C*(L**2 - 2*L*R1*RC + R1**2*RC**2) - 4*L*RC**2)) - 3*L*R1*RC**3 - 2*L*R1*RC*sqrt(C*(C*(L**2 - 2*L*R1*RC + R1**2*RC**2) - 4*L*RC**2)) + R1**2*RC**2*sqrt(C*(C*(L**2 - 2*L*R1*RC + R1**2*RC**2) - 4*L*RC**2))) + L*RC**2*sqrt(C*(C*(L**2 - 2*L*R1*RC + R1**2*RC**2) - 4*L*RC**2)))/(C**2*(L**4 - 4*L**3*R1*RC + 6*L**2*R1**2*RC**2 - 4*L*R1**3*RC**3 + R1**4*RC**4) - C*(L**3*(5*RC**2 + sqrt(C*(C*(L**2 - 2*L*R1*RC + R1**2*RC**2) - 4*L*RC**2))) - L**2*R1*RC*(10*RC**2 + 3*sqrt(C*(C*(L**2 - 2*L*R1*RC + R1**2*RC**2) - 4*L*RC**2))) + L*R1**2*RC**2*(5*RC**2 + 3*sqrt(C*(C*(L**2 - 2*L*R1*RC + R1**2*RC**2) - 4*L*RC**2))) - R1**3*RC**3*sqrt(C*(C*(L**2 - 2*L*R1*RC + R1**2*RC**2) - 4*L*RC**2))) + L**2*RC**2*(4*RC**2 + 3*sqrt(C*(C*(L**2 - 2*L*R1*RC + R1**2*RC**2) - 4*L*RC**2))) - 3*L*R1*RC**3*sqrt(C*(C*(L**2 - 2*L*R1*RC + R1**2*RC**2) - 4*L*RC**2))) + Vs*(C**2*(L**4 - 4*L**3*R1*RC + 6*L**2*R1**2*RC**2 - 4*L*R1**3*RC**3 + R1**4*RC**4) - C*(L**3*(4*RC**2 + sqrt(C*(C*(L**2 - 2*L*R1*RC + R1**2*RC**2) - 4*L*RC**2))) - L**2*R1*RC*(8*RC**2 + 3*sqrt(C*(C*(L**2 - 2*L*R1*RC + R1**2*RC**2) - 4*L*RC**2))) + L*R1**2*RC**2*(4*RC**2 + 3*sqrt(C*(C*(L**2 - 2*L*R1*RC + R1**2*RC**2) - 4*L*RC**2))) - R1**3*RC**3*sqrt(C*(C*(L**2 - 2*L*R1*RC + R1**2*RC**2) - 4*L*RC**2))) + 2*L**2*RC**2*(RC**2 + sqrt(C*(C*(L**2 - 2*L*R1*RC + R1**2*RC**2) - 4*L*RC**2))) - 2*L*R1*RC**3*sqrt(C*(C*(L**2 - 2*L*R1*RC + R1**2*RC**2) - 4*L*RC**2)))*Piecewise((2*C*L*RC/(C*L + C*R1*RC + sqrt(C*(C*L**2 - 2*C*L*R1*RC + C*R1**2*RC**2 - 4*L*RC**2))), Ne(C, -RC/R1)), (2*L*RC**2/(L*RC + R1*RC**2 - R1*sqrt(RC**2*(L**2/R1**2 + 2*L*RC/R1 + RC**2))), True))/(L*(C**2*(L**4 - 4*L**3*R1*RC + 6*L**2*R1**2*RC**2 - 4*L*R1**3*RC**3 + R1**4*RC**4) - C*(L**3*(5*RC**2 + sqrt(C*(C*(L**2 - 2*L*R1*RC + R1**2*RC**2) - 4*L*RC**2))) - L**2*R1*RC*(10*RC**2 + 3*sqrt(C*(C*(L**2 - 2*L*R1*RC + R1**2*RC**2) - 4*L*RC**2))) + L*R1**2*RC**2*(5*RC**2 + 3*sqrt(C*(C*(L**2 - 2*L*R1*RC + R1**2*RC**2) - 4*L*RC**2))) - R1**3*RC**3*sqrt(C*(C*(L**2 - 2*L*R1*RC + R1**2*RC**2) - 4*L*RC**2))) + L**2*RC**2*(4*RC**2 + 3*sqrt(C*(C*(L**2 - 2*L*R1*RC + R1**2*RC**2) - 4*L*RC**2))) - 3*L*R1*RC**3*sqrt(C*(C*(L**2 - 2*L*R1*RC + R1**2*RC**2) - 4*L*RC**2)))))*exp(-t*(C*L**2*RC + C*L*R1*RC**2 + L*RC*sqrt(C**2*L**2 - 2*C**2*L*R1*RC + C**2*R1**2*RC**2 - 4*C*L*RC**2))/(2*C*L**2*RC**2)) + (-I0*L*RC**2*(C*(L**2 - 2*L*R1*RC + R1**2*RC**2) - L*(4*RC**2 + sqrt(C*(C*(L**2 - 2*L*R1*RC + R1**2*RC**2) - 4*L*RC**2))) + R1*RC*sqrt(C*(C*(L**2 - 2*L*R1*RC + R1**2*RC**2) - 4*L*RC**2)))/(C**2*(L**4 - 4*L**3*R1*RC + 6*L**2*R1**2*RC**2 - 4*L*R1**3*RC**3 + R1**4*RC**4) - C*(L**3*(6*RC**2 + sqrt(C*(C*(L**2 - 2*L*R1*RC + R1**2*RC**2) - 4*L*RC**2))) - 3*L**2*R1*RC*(4*RC**2 + sqrt(C*(C*(L**2 - 2*L*R1*RC + R1**2*RC**2) - 4*L*RC**2))) + 3*L*R1**2*RC**2*(2*RC**2 + sqrt(C*(C*(L**2 - 2*L*R1*RC + R1**2*RC**2) - 4*L*RC**2))) - R1**3*RC**3*sqrt(C*(C*(L**2 - 2*L*R1*RC + R1**2*RC**2) - 4*L*RC**2))) + 4*L**2*RC**2*(2*RC**2 + sqrt(C*(C*(L**2 - 2*L*R1*RC + R1**2*RC**2) - 4*L*RC**2))) - 4*L*R1*RC**3*sqrt(C*(C*(L**2 - 2*L*R1*RC + R1**2*RC**2) - 4*L*RC**2))) + RC**2*Vs*(C*(L**2 - 2*L*R1*RC + R1**2*RC**2) - L*(4*RC**2 + sqrt(C*(C*(L**2 - 2*L*R1*RC + R1**2*RC**2) - 4*L*RC**2))) + R1*RC*sqrt(C*(C*(L**2 - 2*L*R1*RC + R1**2*RC**2) - 4*L*RC**2)))*Piecewise((2*C*L*RC/(C*L + C*R1*RC - sqrt(C*(C*L**2 - 2*C*L*R1*RC + C*R1**2*RC**2 - 4*L*RC**2))), Ne(C, -RC/R1)), (2*L*RC**2/(L*RC + R1*RC**2 + R1*sqrt(RC**2*(L**2/R1**2 + 2*L*RC/R1 + RC**2))), True))/(C**2*(L**4 - 4*L**3*R1*RC + 6*L**2*R1**2*RC**2 - 4*L*R1**3*RC**3 + R1**4*RC**4) - C*(L**3*(6*RC**2 + sqrt(C*(C*(L**2 - 2*L*R1*RC + R1**2*RC**2) - 4*L*RC**2))) - 3*L**2*R1*RC*(4*RC**2 + sqrt(C*(C*(L**2 - 2*L*R1*RC + R1**2*RC**2) - 4*L*RC**2))) + 3*L*R1**2*RC**2*(2*RC**2 + sqrt(C*(C*(L**2 - 2*L*R1*RC + R1**2*RC**2) - 4*L*RC**2))) - R1**3*RC**3*sqrt(C*(C*(L**2 - 2*L*R1*RC + R1**2*RC**2) - 4*L*RC**2))) + 4*L**2*RC**2*(2*RC**2 + sqrt(C*(C*(L**2 - 2*L*R1*RC + R1**2*RC**2) - 4*L*RC**2))) - 4*L*R1*RC**3*sqrt(C*(C*(L**2 - 2*L*R1*RC + R1**2*RC**2) - 4*L*RC**2))) + RC*V0*(C**2*(L**3 - 3*L**2*R1*RC + 3*L*R1**2*RC**2 - R1**3*RC**3) - C*(4*L**2*RC**2 + L**2*sqrt(C*(C*(L**2 - 2*L*R1*RC + R1**2*RC**2) - 4*L*RC**2)) - 4*L*R1*RC**3 - 2*L*R1*RC*sqrt(C*(C*(L**2 - 2*L*R1*RC + R1**2*RC**2) - 4*L*RC**2)) + R1**2*RC**2*sqrt(C*(C*(L**2 - 2*L*R1*RC + R1**2*RC**2) - 4*L*RC**2))) + 2*L*RC**2*sqrt(C*(C*(L**2 - 2*L*R1*RC + R1**2*RC**2) - 4*L*RC**2)))/(C**2*(L**4 - 4*L**3*R1*RC + 6*L**2*R1**2*RC**2 - 4*L*R1**3*RC**3 + R1**4*RC**4) - C*(L**3*(6*RC**2 + sqrt(C*(C*(L**2 - 2*L*R1*RC + R1**2*RC**2) - 4*L*RC**2))) - 3*L**2*R1*RC*(4*RC**2 + sqrt(C*(C*(L**2 - 2*L*R1*RC + R1**2*RC**2) - 4*L*RC**2))) + 3*L*R1**2*RC**2*(2*RC**2 + sqrt(C*(C*(L**2 - 2*L*R1*RC + R1**2*RC**2) - 4*L*RC**2))) - R1**3*RC**3*sqrt(C*(C*(L**2 - 2*L*R1*RC + R1**2*RC**2) - 4*L*RC**2))) + 4*L**2*RC**2*(2*RC**2 + sqrt(C*(C*(L**2 - 2*L*R1*RC + R1**2*RC**2) - 4*L*RC**2))) - 4*L*R1*RC**3*sqrt(C*(C*(L**2 - 2*L*R1*RC + R1**2*RC**2) - 4*L*RC**2))))*exp(-t*(C*L**2*RC + C*L*R1*RC**2 - L*RC*sqrt(C**2*L**2 - 2*C**2*L*R1*RC + C**2*R1**2*RC**2 - 4*C*L*RC**2))/(2*C*L**2*RC**2)) + Vs*(C*(L**2 - 2*L*R1*RC + R1**2*RC**2) - L*(2*RC**2 + sqrt(C*(C*(L**2 - 2*L*R1*RC + R1**2*RC**2) - 4*L*RC**2))) + R1*RC*sqrt(C*(C*(L**2 - 2*L*R1*RC + R1**2*RC**2) - 4*L*RC**2)))*Piecewise((2*C*L*RC*exp(t*(C*L**2*RC + C*L*R1*RC**2 + L*RC*sqrt(C**2*L**2 - 2*C**2*L*R1*RC + C**2*R1**2*RC**2 - 4*C*L*RC**2))/(2*C*L**2*RC**2))/(C*L + C*R1*RC + sqrt(C*(C*L**2 - 2*C*L*R1*RC + C*R1**2*RC**2 - 4*L*RC**2))), Ne(C*L + C*R1*RC + sqrt(C*(C*L**2 - 2*C*L*R1*RC + C*R1**2*RC**2 - 4*L*RC**2)), 0)), (t, True))*exp(-t*(C*L**2*RC + C*L*R1*RC**2 + L*RC*sqrt(C**2*L**2 - 2*C**2*L*R1*RC + C**2*R1**2*RC**2 - 4*C*L*RC**2))/(2*C*L**2*RC**2))/(L*(C*(L**2 - 2*L*R1*RC + R1**2*RC**2) - L*(4*RC**2 + sqrt(C*(C*(L**2 - 2*L*R1*RC + R1**2*RC**2) - 4*L*RC**2))) + R1*RC*sqrt(C*(C*(L**2 - 2*L*R1*RC + R1**2*RC**2) - 4*L*RC**2)))))]"
            ]
          },
          "metadata": {
            "tags": []
          },
          "execution_count": 1
        }
      ]
    },
    {
      "cell_type": "code",
      "metadata": {
        "colab": {
          "base_uri": "https://localhost:8080/",
          "height": 38
        },
        "id": "G2B1_ZpRdUUy",
        "outputId": "0bbdaf55-a557-48a2-f5c2-919e256d54dd"
      },
      "source": [
        "from sympy import symbols, diff, sin\n",
        "x, y, z = symbols('x y z', real=True)\n",
        "f = 4*x*y + x*sin(z) + x**3 + z**8*y\n",
        "diff(f, x)"
      ],
      "execution_count": 4,
      "outputs": [
        {
          "output_type": "execute_result",
          "data": {
            "text/latex": "$\\displaystyle 3 x^{2} + 4 y + \\sin{\\left(z \\right)}$",
            "text/plain": [
              "3*x**2 + 4*y + sin(z)"
            ]
          },
          "metadata": {
            "tags": []
          },
          "execution_count": 4
        }
      ]
    },
    {
      "cell_type": "code",
      "metadata": {
        "colab": {
          "base_uri": "https://localhost:8080/",
          "height": 38
        },
        "id": "WbFUgujCFNKl",
        "outputId": "00788913-47f6-4d5b-e439-eb2fc2c9d8ca"
      },
      "source": [
        "f.diff(x)"
      ],
      "execution_count": 5,
      "outputs": [
        {
          "output_type": "execute_result",
          "data": {
            "text/latex": "$\\displaystyle 3 x^{2} + 4 y + \\sin{\\left(z \\right)}$",
            "text/plain": [
              "3*x**2 + 4*y + sin(z)"
            ]
          },
          "metadata": {
            "tags": []
          },
          "execution_count": 5
        }
      ]
    },
    {
      "cell_type": "code",
      "metadata": {
        "id": "B54pgnswFWED"
      },
      "source": [
        ""
      ],
      "execution_count": null,
      "outputs": []
    }
  ]
}